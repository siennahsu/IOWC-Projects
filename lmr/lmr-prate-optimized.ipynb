{
 "cells": [
  {
   "cell_type": "code",
   "execution_count": 1,
   "id": "f0af38a0",
   "metadata": {},
   "outputs": [],
   "source": [
    "import netCDF4\n",
    "import glob\n",
    "import os\n",
    "import numpy as np"
   ]
  },
  {
   "cell_type": "code",
   "execution_count": 2,
   "id": "bdc945e7",
   "metadata": {},
   "outputs": [],
   "source": [
    "MIN_YEAR = 1880\n",
    "MAX_YEAR = 1887\n",
    "MIN_LAT = 18\n",
    "MAX_LAT = 54\n",
    "MIN_LON = 73\n",
    "MAX_LON = 135"
   ]
  },
  {
   "cell_type": "code",
   "execution_count": 3,
   "id": "d0ae0e40",
   "metadata": {},
   "outputs": [],
   "source": [
    "file = \"prate_MCruns_ensemble_mean_LMRv2.0.nc\"\n",
    "f = netCDF4.Dataset(file)"
   ]
  },
  {
   "cell_type": "code",
   "execution_count": 4,
   "id": "c7db03ff",
   "metadata": {},
   "outputs": [
    {
     "name": "stdout",
     "output_type": "stream",
     "text": [
      "dict_keys(['time', 'lat', 'lon', 'prate'])\n"
     ]
    }
   ],
   "source": [
    "# get all the variables\n",
    "print(f.variables.keys())"
   ]
  },
  {
   "cell_type": "code",
   "execution_count": 5,
   "id": "62fcaf41",
   "metadata": {},
   "outputs": [
    {
     "name": "stdout",
     "output_type": "stream",
     "text": [
      "<class 'netCDF4._netCDF4.Variable'>\n",
      "float64 time(time)\n",
      "    description: time\n",
      "    long_name: Time\n",
      "    standard_name: time\n",
      "    units: days since 0000-01-01 00:00:00\n",
      "    calendar: noleap\n",
      "    actual_range: [     0. 730000.]\n",
      "unlimited dimensions: \n",
      "current shape = (2001,)\n",
      "filling on, default _FillValue of 9.969209968386869e+36 used\n",
      "\n",
      "<class 'netCDF4._netCDF4.Variable'>\n",
      "float32 lat(lat)\n",
      "    description: latitude\n",
      "    units: degrees_north\n",
      "    long_name: Latitude\n",
      "    standard_name: latitude\n",
      "    axis: Y\n",
      "    coordinate_defines: point\n",
      "    actual_range: [-90.  90.]\n",
      "unlimited dimensions: \n",
      "current shape = (91,)\n",
      "filling on, default _FillValue of 9.969209968386869e+36 used\n",
      "\n",
      "<class 'netCDF4._netCDF4.Variable'>\n",
      "float32 lon(lon)\n",
      "    description: longitude\n",
      "    units: degrees_east\n",
      "    long_name: Longitude\n",
      "    standard_name: longitude\n",
      "    axis: X\n",
      "    coordinate_defines: point\n",
      "    actual_range: [  0. 358.]\n",
      "unlimited dimensions: \n",
      "current shape = (180,)\n",
      "filling on, default _FillValue of 9.969209968386869e+36 used\n",
      "\n",
      "<class 'netCDF4._netCDF4.Variable'>\n",
      "float32 prate(time, MCrun, lat, lon)\n",
      "    _FillValue: -9.96921e+36\n",
      "    var_desc: Precipitation rate at surface\n",
      "    long_name: Precipitation Rate at Surface\n",
      "    standard_name: precipitation_flux\n",
      "    units: kg/m^2/s\n",
      "    level_desc: Surface\n",
      "    statistic: Ensemble Mean\n",
      "    GRIB_id: 59\n",
      "    GRIB_name: PRATEsfcAvg\n",
      "    valid_range: [-0.0002  0.0002]\n",
      "    dataset: NOAA Last Millennium Reanalysis version 1 Annual Averages\n",
      "    missing_value: -9.96921e+36\n",
      "    actual_range: [-7.2125891e-05  6.9940565e-05]\n",
      "unlimited dimensions: \n",
      "current shape = (2001, 20, 91, 180)\n",
      "filling on\n",
      "\n"
     ]
    }
   ],
   "source": [
    "all_vars = []\n",
    "time = f.variables['time'] # time variable\n",
    "all_vars.append(time)\n",
    "lat = f.variables['lat'] # latitude variable\n",
    "all_vars.append(lat)\n",
    "lon = f.variables['lon'] # longitude variable\n",
    "all_vars.append(lon)\n",
    "prate = f.variables['prate'] # prate variable\n",
    "all_vars.append(prate)\n",
    "\n",
    "for var in all_vars:\n",
    "    print(var)\n",
    "    print()"
   ]
  },
  {
   "cell_type": "code",
   "execution_count": 6,
   "id": "51fd6dab",
   "metadata": {},
   "outputs": [],
   "source": [
    "columns = \"Date,Latitude,Longitude,mean_prate\\n\""
   ]
  },
  {
   "cell_type": "code",
   "execution_count": 7,
   "id": "0f6c50ba",
   "metadata": {},
   "outputs": [],
   "source": [
    "years = list(range(MIN_YEAR, MAX_YEAR+1))\n",
    "\n",
    "list_lat = list(lat)\n",
    "list_lon = list(lon)\n",
    "lat_indices = [i for i in range(len(list_lat)) if list_lat[i] >= MIN_LAT and list_lat[i] <= MAX_LAT] \n",
    "lon_indices = [i for i in range(len(list_lon)) if list_lon[i] >= MIN_LON and list_lon[i] <= MAX_LON]"
   ]
  },
  {
   "cell_type": "code",
   "execution_count": 8,
   "id": "c311c204",
   "metadata": {},
   "outputs": [
    {
     "name": "stdout",
     "output_type": "stream",
     "text": [
      "54 18.0\n",
      "55 20.0\n",
      "56 22.0\n",
      "57 24.0\n",
      "58 26.0\n",
      "59 28.0\n",
      "60 30.0\n",
      "61 32.0\n",
      "62 34.0\n",
      "63 36.0\n",
      "64 38.0\n",
      "65 40.0\n",
      "66 42.0\n",
      "67 44.0\n",
      "68 46.0\n",
      "69 48.0\n",
      "70 50.0\n",
      "71 52.0\n",
      "72 54.0\n"
     ]
    }
   ],
   "source": [
    "for lat_ind in lat_indices:\n",
    "    print(lat_ind, lat[lat_ind])"
   ]
  },
  {
   "cell_type": "code",
   "execution_count": 9,
   "id": "2cd94153",
   "metadata": {},
   "outputs": [
    {
     "name": "stdout",
     "output_type": "stream",
     "text": [
      "37 74.0\n",
      "38 76.0\n",
      "39 78.0\n",
      "40 80.0\n",
      "41 82.0\n",
      "42 84.0\n",
      "43 86.0\n",
      "44 88.0\n",
      "45 90.0\n",
      "46 92.0\n",
      "47 94.0\n",
      "48 96.0\n",
      "49 98.0\n",
      "50 100.0\n",
      "51 102.0\n",
      "52 104.0\n",
      "53 106.0\n",
      "54 108.0\n",
      "55 110.0\n",
      "56 112.0\n",
      "57 114.0\n",
      "58 116.0\n",
      "59 118.0\n",
      "60 120.0\n",
      "61 122.0\n",
      "62 124.0\n",
      "63 126.0\n",
      "64 128.0\n",
      "65 130.0\n",
      "66 132.0\n",
      "67 134.0\n"
     ]
    }
   ],
   "source": [
    "for lon_ind in lon_indices:\n",
    "    print(lon_ind, lon[lon_ind])"
   ]
  },
  {
   "cell_type": "code",
   "execution_count": null,
   "id": "3d291313",
   "metadata": {
    "scrolled": true
   },
   "outputs": [],
   "source": [
    "for year in years:\n",
    "    \n",
    "    file_name = \"/Users/Sienna/Desktop/yearly_data_op/\" + str(year) + \".csv\"\n",
    "    f_cur = open(file_name, \"w\")\n",
    "    f_cur.write(columns)\n",
    "    \n",
    "    date = str(year) + \"-01-01\"\n",
    "    \n",
    "    cur_year_prates = []\n",
    "    \n",
    "    for trial_i in range(20):\n",
    "        cur_trial_prates = []\n",
    "    \n",
    "        for lat_ind in lat_indices:\n",
    "            cur_trial_prates.append(list(prate[year][trial_i][lat_ind][lon_indices[0]:lon_indices[-1]+1]))\n",
    "    \n",
    "        cur_year_prates.append(cur_trial_prates)\n",
    "                \n",
    "   \n",
    "    for lat_i, lat_ind in enumerate(lat_indices):\n",
    "        cur_lat_prates_over_trials = []\n",
    "        \n",
    "        for trial_i in range(20):\n",
    "            cur_lat_prates_over_trials.append(cur_year_prates[trial_i][lat_i])\n",
    "        \n",
    "        pr_means = np.mean(np.array(cur_lat_prates_over_trials), axis=0) \n",
    "    \n",
    "        latitude = str(lat[lat_ind])\n",
    "        \n",
    "        for pr_mean_i, pr_mean in enumerate(pr_means):\n",
    "                \n",
    "            longitude = str(lon[lon_indices[pr_mean_i]])  \n",
    "            to_write = date + \",\" + latitude + \",\" + longitude + \",\" + str(pr_mean) + \"\\n\"\n",
    "            f_cur.write(to_write)\n",
    "            print(to_write)\n",
    "\n",
    "    f_cur.close()"
   ]
  },
  {
   "cell_type": "code",
   "execution_count": 11,
   "id": "df939262",
   "metadata": {},
   "outputs": [],
   "source": [
    "f.close()"
   ]
  },
  {
   "cell_type": "code",
   "execution_count": 12,
   "id": "d3167cb2",
   "metadata": {},
   "outputs": [],
   "source": [
    "f_final = open(\"/Users/Sienna/Desktop/lmr_china_1880_1887.csv\", \"w\")\n",
    "f_final.write(columns)\n",
    "\n",
    "filelist = glob.glob(os.path.join('/Users/Sienna/Desktop/yearly_data_op/', '*.csv'))\n",
    "for infile in sorted(filelist): \n",
    "    f = open(infile, \"r\")\n",
    "    lines = f.readlines()\n",
    "    for line in lines[1:]:\n",
    "        f_final.write(line)\n",
    "    f.close()\n",
    "\n",
    "f_final.close()"
   ]
  }
 ],
 "metadata": {
  "kernelspec": {
   "display_name": "Python 3 (ipykernel)",
   "language": "python",
   "name": "python3"
  },
  "language_info": {
   "codemirror_mode": {
    "name": "ipython",
    "version": 3
   },
   "file_extension": ".py",
   "mimetype": "text/x-python",
   "name": "python",
   "nbconvert_exporter": "python",
   "pygments_lexer": "ipython3",
   "version": "3.9.7"
  }
 },
 "nbformat": 4,
 "nbformat_minor": 5
}
