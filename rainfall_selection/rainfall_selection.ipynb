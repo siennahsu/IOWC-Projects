{
  "nbformat": 4,
  "nbformat_minor": 0,
  "metadata": {
    "colab": {
      "provenance": [],
      "toc_visible": true
    },
    "kernelspec": {
      "name": "python3",
      "display_name": "Python 3"
    },
    "language_info": {
      "name": "python"
    }
  },
  "cells": [
    {
      "cell_type": "code",
      "execution_count": null,
      "metadata": {
        "id": "0VlQeVUgwP9c"
      },
      "outputs": [],
      "source": [
        "import pandas as pd"
      ]
    },
    {
      "cell_type": "code",
      "source": [
        "avg_rainfall_threshold = 100"
      ],
      "metadata": {
        "id": "3sPenDt8eM_o"
      },
      "execution_count": null,
      "outputs": []
    },
    {
      "cell_type": "code",
      "source": [
        "df = pd.read_csv('/content/all_stations_data.csv')"
      ],
      "metadata": {
        "id": "ekDOwDwHwf5d"
      },
      "execution_count": null,
      "outputs": []
    },
    {
      "cell_type": "markdown",
      "source": [
        "# Seasonal Rainfall"
      ],
      "metadata": {
        "id": "-1JE0u8H4PQA"
      }
    },
    {
      "cell_type": "code",
      "source": [
        "# Define season\n",
        "# winter: Dec - Feb\n",
        "# spring: Mar - May\n",
        "# summer: Jun - Aug\n",
        "# autumn: Sept - Nov\n",
        "\n",
        "# In the new csv file, the date column is the date of the first month of the season"
      ],
      "metadata": {
        "id": "Iz_EVoiHwu7A"
      },
      "execution_count": null,
      "outputs": []
    },
    {
      "cell_type": "code",
      "source": [
        "# The data for the new dataframe\n",
        "data = []\n",
        "data_less_threshold = []\n",
        "data_more_threshold = []\n",
        "\n",
        "# row ID\n",
        "ID = 1\n",
        "ID_more_threshold = 1\n",
        "ID_less_threshold = 1\n",
        "\n",
        "# first station\n",
        "station = df.loc[0, \"Location Name\"]\n",
        "lat = df.loc[0, \"Latitude\"]\n",
        "lon = df.loc[0, \"Longitude\"]\n",
        "\n",
        "months = []\n",
        "\n",
        "j = 0 # df row index\n",
        "\n",
        "len_df = len(df)\n",
        "\n",
        "while j < len_df:\n",
        "\n",
        "    # a new station, recount months\n",
        "    if df.loc[j, \"Location Name\"] != station or j == len_df-1:\n",
        "\n",
        "        # process the previous station\n",
        "\n",
        "        # start with the first month available\n",
        "        k = 0\n",
        "\n",
        "        while k < len(months)-2:\n",
        "\n",
        "            if months[k][1] in [12, 3, 6, 9]:\n",
        "\n",
        "                count_consec_months = 1\n",
        "\n",
        "                # check the next two months\n",
        "                for i in range(1,3):\n",
        "                    if (months[k+i][0] == months[k+i-1][0] and \\\n",
        "                        months[k+i][1] - months[k+i-1][1] == 1) or \\\n",
        "                         (months[k+i][0] - months[k+i-1][0] == 1 and \\\n",
        "                          months[k+i-1][1] - months[k+i][1] == 11):\n",
        "                        count_consec_months += 1\n",
        "\n",
        "                if count_consec_months == 3:\n",
        "\n",
        "                    \"\"\"\n",
        "                    If you want to change the date displayed in the new csv file, change here\n",
        "                    \"\"\"\n",
        "                    date = str(months[k][0]) + \"-\" + str(months[k][1]) + \"-\" + \"01\"\n",
        "\n",
        "                    rainfall_total = months[k][2] + months[k+1][2] + months[k+2][2]\n",
        "\n",
        "                    avg_total = months[k][3] + months[k+1][3] + months[k+2][3]\n",
        "\n",
        "                    anomaly = round(rainfall_total / avg_total * 100, 2)\n",
        "\n",
        "                    data.append([ID, station, lat, lon, date, rainfall_total, avg_total, anomaly])\n",
        "\n",
        "                    if avg_total >= avg_rainfall_threshold:\n",
        "                        data_more_threshold.append([ID_more_threshold, station, \\\n",
        "                                                    lat, lon, date, rainfall_total, avg_total, anomaly])\n",
        "                        ID_more_threshold += 1\n",
        "\n",
        "                    if avg_total < avg_rainfall_threshold:\n",
        "                        data_less_threshold.append([ID_less_threshold, station, \\\n",
        "                                                    lat, lon, date, rainfall_total, avg_total, anomaly])\n",
        "                        ID_less_threshold += 1\n",
        "\n",
        "                    ID += 1\n",
        "                    k += 3\n",
        "\n",
        "                else:\n",
        "                  k += 1\n",
        "\n",
        "            else:\n",
        "                k += 1\n",
        "\n",
        "\n",
        "        if j == len_df - 1:\n",
        "            break\n",
        "\n",
        "        # update the station\n",
        "        station = df.loc[j, \"Location Name\"]\n",
        "        lat = df.loc[j, \"Latitude\"]\n",
        "        lon = df.loc[j, \"Longitude\"]\n",
        "        months.clear()\n",
        "\n",
        "    else:\n",
        "        year = int(df.loc[j, \"Date\"][0:4])\n",
        "        month = int(df.loc[j, \"Date\"][5:7])\n",
        "        rainfall = round(df.loc[j, \"Rainfall (mm)\"], 5)\n",
        "        avg_rainfall = round(df.loc[j, \"Avg Rainfall (mm)\"], 5)\n",
        "        months.append([year, month, rainfall, avg_rainfall])\n",
        "        j += 1\n"
      ],
      "metadata": {
        "id": "NOLo9rSjxFUS"
      },
      "execution_count": null,
      "outputs": []
    },
    {
      "cell_type": "code",
      "source": [
        "columns = ['ID','Location Name','Latitude','Longitude','Date','Rainfall (mm)','Avg Rainfall (mm)','Rainfall (% anomaly)']\n",
        "full_new_df = pd.DataFrame(data, columns=columns)\n",
        "more_threshold_new_df = pd.DataFrame(data_more_threshold, columns=columns)\n",
        "less_threshold_new_df = pd.DataFrame(data_less_threshold, columns=columns)"
      ],
      "metadata": {
        "id": "GOnJNrCK5owN"
      },
      "execution_count": null,
      "outputs": []
    },
    {
      "cell_type": "code",
      "source": [
        "full_new_df.to_csv('/content/rainfall_seasonal.csv')\n",
        "more_threshold_new_df.to_csv('/content/rainfall_seasonal_rainy.csv')\n",
        "less_threshold_new_df.to_csv('/content/rainfall_seasonal_dry.csv')"
      ],
      "metadata": {
        "id": "JnDw-6Thv0Zv"
      },
      "execution_count": null,
      "outputs": []
    },
    {
      "cell_type": "markdown",
      "source": [
        "# Annual Rainfall"
      ],
      "metadata": {
        "id": "SNfTlemt4SxN"
      }
    },
    {
      "cell_type": "code",
      "source": [
        "# A year is defined as September to August of the next year.\n",
        "\n",
        "# In the new csv file, the date column is the date of the first month of the year"
      ],
      "metadata": {
        "id": "USoaPGU14edq"
      },
      "execution_count": null,
      "outputs": []
    },
    {
      "cell_type": "code",
      "source": [
        "# The data for the new dataframe\n",
        "data = []\n",
        "# data_less_threshold = []\n",
        "# data_more_threshold = []\n",
        "\n",
        "# row ID\n",
        "ID = 1\n",
        "# ID_more_threshold = 1\n",
        "# ID_less_threshold = 1\n",
        "\n",
        "# first station\n",
        "station = df.loc[0, \"Location Name\"]\n",
        "lat = df.loc[0, \"Latitude\"]\n",
        "lon = df.loc[0, \"Longitude\"]\n",
        "\n",
        "months = []\n",
        "\n",
        "j = 0 # df row index\n",
        "\n",
        "len_df = len(df)\n",
        "\n",
        "while j < len_df:\n",
        "\n",
        "    # a new station, recount months\n",
        "    if df.loc[j, \"Location Name\"] != station or j == len_df-1:\n",
        "\n",
        "        # process the previous station\n",
        "\n",
        "        # start with the first month available\n",
        "        k = 0\n",
        "\n",
        "        while k < len(months)-11:\n",
        "\n",
        "            if months[k][1] == 9:  # start with september\n",
        "\n",
        "                count_consec_months = 1\n",
        "\n",
        "                # check the next 11 months\n",
        "                for i in range(1,12):\n",
        "                    if (months[k+i][0] == months[k+i-1][0] and \\\n",
        "                        months[k+i][1] - months[k+i-1][1] == 1) or \\\n",
        "                         (months[k+i][0] - months[k+i-1][0] == 1 and \\\n",
        "                          months[k+i-1][1] - months[k+i][1] == 11):\n",
        "                        count_consec_months += 1\n",
        "\n",
        "                if count_consec_months == 12:\n",
        "\n",
        "                    \"\"\"\n",
        "                    If you want to change the date displayed in the new csv file, change here\n",
        "                    \"\"\"\n",
        "                    date = str(months[k][0]) + \"-\" + str(months[k][1]) + \"-\" + \"01\"\n",
        "\n",
        "                    rainfall_total = 0\n",
        "                    for l in range(12):\n",
        "                        if months[k+l][2] < 0:\n",
        "                            rainfall_total = -999.9\n",
        "                            break\n",
        "                        else:\n",
        "                            rainfall_total += months[k+l][2]\n",
        "\n",
        "                    avg_total = 0\n",
        "                    for l in range(12):\n",
        "                        avg_total += months[k+l][3]\n",
        "\n",
        "                    data.append([ID, station, lat, lon, date, round(rainfall_total, 4), round(avg_total, 4)])\n",
        "\n",
        "                    ID += 1\n",
        "                    k += 12\n",
        "\n",
        "                else:\n",
        "                  k += 1\n",
        "\n",
        "            else:\n",
        "                k += 1\n",
        "\n",
        "\n",
        "        if j == len_df - 1:\n",
        "            break\n",
        "\n",
        "        # update the station\n",
        "        station = df.loc[j, \"Location Name\"]\n",
        "        lat = df.loc[j, \"Latitude\"]\n",
        "        lon = df.loc[j, \"Longitude\"]\n",
        "        months.clear()\n",
        "\n",
        "    else:\n",
        "        year = int(df.loc[j, \"Date\"][0:4])\n",
        "        month = int(df.loc[j, \"Date\"][5:7])\n",
        "        rainfall = round(df.loc[j, \"Rainfall (mm)\"], 5)\n",
        "        avg_rainfall = round(df.loc[j, \"Avg Rainfall (mm)\"], 5)\n",
        "        months.append([year, month, rainfall, avg_rainfall])\n",
        "        j += 1\n"
      ],
      "metadata": {
        "id": "jhzpRmlz4edu"
      },
      "execution_count": null,
      "outputs": []
    },
    {
      "cell_type": "code",
      "source": [
        "columns = ['ID','Location Name','Latitude','Longitude','Date','Annual Rainfall (mm)','Annual Avg Rainfall (mm)']\n",
        "full_new_df = pd.DataFrame(data, columns=columns)"
      ],
      "metadata": {
        "id": "7FLl1ifM4edv"
      },
      "execution_count": null,
      "outputs": []
    },
    {
      "cell_type": "code",
      "source": [
        "full_new_df.shape"
      ],
      "metadata": {
        "colab": {
          "base_uri": "https://localhost:8080/"
        },
        "id": "ui2saNRL9odX",
        "outputId": "b6e0fa5d-3384-434f-d83a-64006e4e6802"
      },
      "execution_count": null,
      "outputs": [
        {
          "output_type": "execute_result",
          "data": {
            "text/plain": [
              "(114841, 7)"
            ]
          },
          "metadata": {},
          "execution_count": 7
        }
      ]
    },
    {
      "cell_type": "code",
      "source": [
        "full_new_df = full_new_df[full_new_df['Annual Rainfall (mm)'] > 0]"
      ],
      "metadata": {
        "id": "KqTbttlHCiu2"
      },
      "execution_count": null,
      "outputs": []
    },
    {
      "cell_type": "code",
      "source": [
        "full_new_df.shape"
      ],
      "metadata": {
        "colab": {
          "base_uri": "https://localhost:8080/"
        },
        "id": "huIASG--CzZg",
        "outputId": "2e7e1aca-0605-4b25-9dcb-cc3f750b43e8"
      },
      "execution_count": null,
      "outputs": [
        {
          "output_type": "execute_result",
          "data": {
            "text/plain": [
              "(101377, 7)"
            ]
          },
          "metadata": {},
          "execution_count": 10
        }
      ]
    },
    {
      "cell_type": "code",
      "source": [
        "full_new_df.to_csv('/content/rainfall_annual.csv', index=False)"
      ],
      "metadata": {
        "id": "Dy1ho0fn4edw"
      },
      "execution_count": null,
      "outputs": []
    }
  ]
}
