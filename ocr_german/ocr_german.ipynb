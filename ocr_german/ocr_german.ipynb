{
  "nbformat": 4,
  "nbformat_minor": 0,
  "metadata": {
    "colab": {
      "provenance": []
    },
    "kernelspec": {
      "name": "python3",
      "display_name": "Python 3"
    },
    "language_info": {
      "name": "python"
    }
  },
  "cells": [
    {
      "cell_type": "markdown",
      "source": [
        "# OCR"
      ],
      "metadata": {
        "id": "vcIFBilUrc1J"
      }
    },
    {
      "cell_type": "code",
      "source": [
        "!pip install pypdfium2\n",
        "!sudo apt install tesseract-ocr\n",
        "!sudo apt-get install tesseract-ocr-deu\n",
        "!sudo apt-get install tesseract-ocr-frk\n",
        "!pip install pytesseract\n",
        "!pip install --upgrade pymupdf\n",
        "!pip install PyPDF2"
      ],
      "metadata": {
        "colab": {
          "base_uri": "https://localhost:8080/"
        },
        "id": "i9P-CoJfZmmZ",
        "outputId": "b9d02523-7c0b-41d2-d253-75f06187e65c"
      },
      "execution_count": null,
      "outputs": [
        {
          "output_type": "stream",
          "name": "stdout",
          "text": [
            "Collecting pypdfium2\n",
            "  Downloading pypdfium2-4.24.0-py3-none-manylinux_2_17_x86_64.whl (3.0 MB)\n",
            "\u001b[?25l     \u001b[90m━━━━━━━━━━━━━━━━━━━━━━━━━━━━━━━━━━━━━━━━\u001b[0m \u001b[32m0.0/3.0 MB\u001b[0m \u001b[31m?\u001b[0m eta \u001b[36m-:--:--\u001b[0m\r\u001b[2K     \u001b[91m━━━\u001b[0m\u001b[91m╸\u001b[0m\u001b[90m━━━━━━━━━━━━━━━━━━━━━━━━━━━━━━━━━━━━\u001b[0m \u001b[32m0.3/3.0 MB\u001b[0m \u001b[31m8.6 MB/s\u001b[0m eta \u001b[36m0:00:01\u001b[0m\r\u001b[2K     \u001b[91m━━━━━━━━━━\u001b[0m\u001b[90m╺\u001b[0m\u001b[90m━━━━━━━━━━━━━━━━━━━━━━━━━━━━━\u001b[0m \u001b[32m0.8/3.0 MB\u001b[0m \u001b[31m11.3 MB/s\u001b[0m eta \u001b[36m0:00:01\u001b[0m\r\u001b[2K     \u001b[91m━━━━━━━━━━━━━━━━━━\u001b[0m\u001b[91m╸\u001b[0m\u001b[90m━━━━━━━━━━━━━━━━━━━━━\u001b[0m \u001b[32m1.4/3.0 MB\u001b[0m \u001b[31m13.3 MB/s\u001b[0m eta \u001b[36m0:00:01\u001b[0m\r\u001b[2K     \u001b[91m━━━━━━━━━━━━━━━━━━━━━━━━━━━━\u001b[0m\u001b[91m╸\u001b[0m\u001b[90m━━━━━━━━━━━\u001b[0m \u001b[32m2.1/3.0 MB\u001b[0m \u001b[31m15.3 MB/s\u001b[0m eta \u001b[36m0:00:01\u001b[0m\r\u001b[2K     \u001b[91m━━━━━━━━━━━━━━━━━━━━━━━━━━━━━━━━━━━━━━━\u001b[0m\u001b[91m╸\u001b[0m \u001b[32m2.9/3.0 MB\u001b[0m \u001b[31m17.5 MB/s\u001b[0m eta \u001b[36m0:00:01\u001b[0m\r\u001b[2K     \u001b[90m━━━━━━━━━━━━━━━━━━━━━━━━━━━━━━━━━━━━━━━━\u001b[0m \u001b[32m3.0/3.0 MB\u001b[0m \u001b[31m16.0 MB/s\u001b[0m eta \u001b[36m0:00:00\u001b[0m\n",
            "\u001b[?25hInstalling collected packages: pypdfium2\n",
            "Successfully installed pypdfium2-4.24.0\n",
            "Reading package lists... Done\n",
            "Building dependency tree... Done\n",
            "Reading state information... Done\n",
            "The following additional packages will be installed:\n",
            "  tesseract-ocr-eng tesseract-ocr-osd\n",
            "The following NEW packages will be installed:\n",
            "  tesseract-ocr tesseract-ocr-eng tesseract-ocr-osd\n",
            "0 upgraded, 3 newly installed, 0 to remove and 15 not upgraded.\n",
            "Need to get 4,816 kB of archives.\n",
            "After this operation, 15.6 MB of additional disk space will be used.\n",
            "Get:1 http://archive.ubuntu.com/ubuntu jammy/universe amd64 tesseract-ocr-eng all 1:4.00~git30-7274cfa-1.1 [1,591 kB]\n",
            "Get:2 http://archive.ubuntu.com/ubuntu jammy/universe amd64 tesseract-ocr-osd all 1:4.00~git30-7274cfa-1.1 [2,990 kB]\n",
            "Get:3 http://archive.ubuntu.com/ubuntu jammy/universe amd64 tesseract-ocr amd64 4.1.1-2.1build1 [236 kB]\n",
            "Fetched 4,816 kB in 1s (5,745 kB/s)\n",
            "debconf: unable to initialize frontend: Dialog\n",
            "debconf: (No usable dialog-like program is installed, so the dialog based frontend cannot be used. at /usr/share/perl5/Debconf/FrontEnd/Dialog.pm line 78, <> line 3.)\n",
            "debconf: falling back to frontend: Readline\n",
            "debconf: unable to initialize frontend: Readline\n",
            "debconf: (This frontend requires a controlling tty.)\n",
            "debconf: falling back to frontend: Teletype\n",
            "dpkg-preconfigure: unable to re-open stdin: \n",
            "Selecting previously unselected package tesseract-ocr-eng.\n",
            "(Reading database ... 120882 files and directories currently installed.)\n",
            "Preparing to unpack .../tesseract-ocr-eng_1%3a4.00~git30-7274cfa-1.1_all.deb ...\n",
            "Unpacking tesseract-ocr-eng (1:4.00~git30-7274cfa-1.1) ...\n",
            "Selecting previously unselected package tesseract-ocr-osd.\n",
            "Preparing to unpack .../tesseract-ocr-osd_1%3a4.00~git30-7274cfa-1.1_all.deb ...\n",
            "Unpacking tesseract-ocr-osd (1:4.00~git30-7274cfa-1.1) ...\n",
            "Selecting previously unselected package tesseract-ocr.\n",
            "Preparing to unpack .../tesseract-ocr_4.1.1-2.1build1_amd64.deb ...\n",
            "Unpacking tesseract-ocr (4.1.1-2.1build1) ...\n",
            "Setting up tesseract-ocr-eng (1:4.00~git30-7274cfa-1.1) ...\n",
            "Setting up tesseract-ocr-osd (1:4.00~git30-7274cfa-1.1) ...\n",
            "Setting up tesseract-ocr (4.1.1-2.1build1) ...\n",
            "Processing triggers for man-db (2.10.2-1) ...\n",
            "Reading package lists... Done\n",
            "Building dependency tree... Done\n",
            "Reading state information... Done\n",
            "The following NEW packages will be installed:\n",
            "  tesseract-ocr-deu\n",
            "0 upgraded, 1 newly installed, 0 to remove and 15 not upgraded.\n",
            "Need to get 744 kB of archives.\n",
            "After this operation, 1,540 kB of additional disk space will be used.\n",
            "Get:1 http://archive.ubuntu.com/ubuntu jammy/universe amd64 tesseract-ocr-deu all 1:4.00~git30-7274cfa-1.1 [744 kB]\n",
            "Fetched 744 kB in 1s (1,384 kB/s)\n",
            "debconf: unable to initialize frontend: Dialog\n",
            "debconf: (No usable dialog-like program is installed, so the dialog based frontend cannot be used. at /usr/share/perl5/Debconf/FrontEnd/Dialog.pm line 78, <> line 1.)\n",
            "debconf: falling back to frontend: Readline\n",
            "debconf: unable to initialize frontend: Readline\n",
            "debconf: (This frontend requires a controlling tty.)\n",
            "debconf: falling back to frontend: Teletype\n",
            "dpkg-preconfigure: unable to re-open stdin: \n",
            "Selecting previously unselected package tesseract-ocr-deu.\n",
            "(Reading database ... 120929 files and directories currently installed.)\n",
            "Preparing to unpack .../tesseract-ocr-deu_1%3a4.00~git30-7274cfa-1.1_all.deb ...\n",
            "Unpacking tesseract-ocr-deu (1:4.00~git30-7274cfa-1.1) ...\n",
            "Setting up tesseract-ocr-deu (1:4.00~git30-7274cfa-1.1) ...\n",
            "Reading package lists... Done\n",
            "Building dependency tree... Done\n",
            "Reading state information... Done\n",
            "The following NEW packages will be installed:\n",
            "  tesseract-ocr-frk\n",
            "0 upgraded, 1 newly installed, 0 to remove and 15 not upgraded.\n",
            "Need to get 2,730 kB of archives.\n",
            "After this operation, 6,438 kB of additional disk space will be used.\n",
            "Get:1 http://archive.ubuntu.com/ubuntu jammy/universe amd64 tesseract-ocr-frk all 1:4.00~git30-7274cfa-1.1 [2,730 kB]\n",
            "Fetched 2,730 kB in 1s (4,061 kB/s)\n",
            "debconf: unable to initialize frontend: Dialog\n",
            "debconf: (No usable dialog-like program is installed, so the dialog based frontend cannot be used. at /usr/share/perl5/Debconf/FrontEnd/Dialog.pm line 78, <> line 1.)\n",
            "debconf: falling back to frontend: Readline\n",
            "debconf: unable to initialize frontend: Readline\n",
            "debconf: (This frontend requires a controlling tty.)\n",
            "debconf: falling back to frontend: Teletype\n",
            "dpkg-preconfigure: unable to re-open stdin: \n",
            "Selecting previously unselected package tesseract-ocr-frk.\n",
            "(Reading database ... 120933 files and directories currently installed.)\n",
            "Preparing to unpack .../tesseract-ocr-frk_1%3a4.00~git30-7274cfa-1.1_all.deb ...\n",
            "Unpacking tesseract-ocr-frk (1:4.00~git30-7274cfa-1.1) ...\n",
            "Setting up tesseract-ocr-frk (1:4.00~git30-7274cfa-1.1) ...\n",
            "Collecting pytesseract\n",
            "  Downloading pytesseract-0.3.10-py3-none-any.whl (14 kB)\n",
            "Requirement already satisfied: packaging>=21.3 in /usr/local/lib/python3.10/dist-packages (from pytesseract) (23.2)\n",
            "Requirement already satisfied: Pillow>=8.0.0 in /usr/local/lib/python3.10/dist-packages (from pytesseract) (9.4.0)\n",
            "Installing collected packages: pytesseract\n",
            "Successfully installed pytesseract-0.3.10\n",
            "Collecting pymupdf\n",
            "  Downloading PyMuPDF-1.23.7-cp310-none-manylinux2014_x86_64.whl (4.4 MB)\n",
            "\u001b[2K     \u001b[90m━━━━━━━━━━━━━━━━━━━━━━━━━━━━━━━━━━━━━━━━\u001b[0m \u001b[32m4.4/4.4 MB\u001b[0m \u001b[31m45.1 MB/s\u001b[0m eta \u001b[36m0:00:00\u001b[0m\n",
            "\u001b[?25hCollecting PyMuPDFb==1.23.7 (from pymupdf)\n",
            "  Downloading PyMuPDFb-1.23.7-py3-none-manylinux2014_x86_64.manylinux_2_17_x86_64.whl (30.6 MB)\n",
            "\u001b[2K     \u001b[90m━━━━━━━━━━━━━━━━━━━━━━━━━━━━━━━━━━━━━━━━\u001b[0m \u001b[32m30.6/30.6 MB\u001b[0m \u001b[31m24.2 MB/s\u001b[0m eta \u001b[36m0:00:00\u001b[0m\n",
            "\u001b[?25hInstalling collected packages: PyMuPDFb, pymupdf\n",
            "Successfully installed PyMuPDFb-1.23.7 pymupdf-1.23.7\n",
            "Collecting PyPDF2\n",
            "  Downloading pypdf2-3.0.1-py3-none-any.whl (232 kB)\n",
            "\u001b[2K     \u001b[90m━━━━━━━━━━━━━━━━━━━━━━━━━━━━━━━━━━━━━━━━\u001b[0m \u001b[32m232.6/232.6 kB\u001b[0m \u001b[31m6.1 MB/s\u001b[0m eta \u001b[36m0:00:00\u001b[0m\n",
            "\u001b[?25hInstalling collected packages: PyPDF2\n",
            "Successfully installed PyPDF2-3.0.1\n"
          ]
        }
      ]
    },
    {
      "cell_type": "code",
      "source": [
        "import pypdfium2 as pdfium\n",
        "import pytesseract\n",
        "import shutil\n",
        "import os\n",
        "import random\n",
        "try:\n",
        " from PIL import Image\n",
        "except ImportError:\n",
        " import Image\n",
        "import sys, fitz\n",
        "import glob\n",
        "import PyPDF2"
      ],
      "metadata": {
        "id": "EkjyzftVZsxv"
      },
      "execution_count": null,
      "outputs": []
    },
    {
      "cell_type": "markdown",
      "source": [
        "## Source 1"
      ],
      "metadata": {
        "id": "yWepdBritzv-"
      }
    },
    {
      "cell_type": "code",
      "source": [
        "# TO SET UP\n",
        "f_source_txt = open(\"source1.txt\", \"w\")\n",
        "f_source_txt_line = open(\"source1_line.txt\", \"w\")\n",
        "start_page = 268\n",
        "file_to_read = \"/content/1. Desouignies, Die Msalala.pdf\"\n",
        "images_dest = \"/content/source1_images/\"\n",
        "\n",
        "mode = 0o666\n",
        "os.mkdir(images_dest, mode)"
      ],
      "metadata": {
        "id": "3N9IWZyeEmcY"
      },
      "execution_count": null,
      "outputs": []
    },
    {
      "cell_type": "code",
      "source": [
        "# Select the rectangle in the image, check the image directory\n",
        "doc = fitz.open(file_to_read)  # open document\n",
        "cur_page = start_page\n",
        "i = 0\n",
        "clip = fitz.Rect(0, 0, 0, 0)\n",
        "while i < 3:\n",
        "    page = doc[i]\n",
        "    zoom_x = 3.0  # horizontal zoom\n",
        "    zoom_y = 3.0  # vertical zoom\n",
        "    mat = fitz.Matrix(zoom_x, zoom_y)  # zoom factor 2 in each dimension\n",
        "    rect = page.rect  # the page rectangle\n",
        "\n",
        "    # set rectangle\n",
        "    clip_set = fitz.Rect(40, 52, 360, 570)  # the area we want  left (start) - top (start) - right (stop) - bottom (stop)\n",
        "    clip = clip_set\n",
        "    pix = page.get_pixmap(matrix=mat, clip=clip)  # use 'mat' instead of the identity matrix\n",
        "    save_dest = images_dest + str(cur_page) + \".png\"\n",
        "    pix.save(save_dest)  # store image as a PNG\n",
        "    cur_page += 1\n",
        "    i += 1"
      ],
      "metadata": {
        "id": "oC-E7zjgFYQH"
      },
      "execution_count": null,
      "outputs": []
    },
    {
      "cell_type": "code",
      "source": [
        "# read the pdf and convert pages into images\n",
        "cur_page = start_page\n",
        "for page in doc:  # iterate through the pages\n",
        "    zoom_x = 3.0  # horizontal zoom\n",
        "    zoom_y = 3.0  # vertical zoom\n",
        "    mat = fitz.Matrix(zoom_x, zoom_y)  # zoom factor 2 in each dimension\n",
        "    rect = page.rect  # the page rectangle\n",
        "    clip = clip  # the area we want  left (start) - top (start) - right (stop) - bottom (stop)\n",
        "    pix = page.get_pixmap(matrix=mat, clip=clip)  # use 'mat' instead of the identity matrix\n",
        "    save_dest = images_dest + str(cur_page) + \".png\"\n",
        "    pix.save(save_dest)  # store image as a PNG\n",
        "    cur_page += 1"
      ],
      "metadata": {
        "id": "c_1rTbcMEmcY"
      },
      "execution_count": null,
      "outputs": []
    },
    {
      "cell_type": "code",
      "source": [
        "# extract the texts of the images\n",
        "filelist = glob.glob(os.path.join(images_dest, '*.png'))\n",
        "\n",
        "cur_page = start_page\n",
        "for infile in sorted(filelist):\n",
        "    text = pytesseract.image_to_string(Image.open(infile), lang='deu')\n",
        "    page = \"Page \" + str(cur_page)\n",
        "\n",
        "    f_source_txt_line.write(page)\n",
        "    f_source_txt_line.write(\"\\n\\n\")\n",
        "    f_source_txt_line.write(text)\n",
        "    f_source_txt_line.write(\"\\n\\n\\n\")\n",
        "\n",
        "    # get rid of line\n",
        "    for i in range(len(text)-1):\n",
        "        if text[i] == \"\\n\" and text[i+1] != \"\\n\":\n",
        "            text = text.replace(text[i], \" \")\n",
        "\n",
        "    f_source_txt.write(page)\n",
        "    f_source_txt.write(\"\\n\\n\")\n",
        "    f_source_txt.write(text)\n",
        "    f_source_txt.write(\"\\n\\n\\n\")\n",
        "\n",
        "    cur_page += 1"
      ],
      "metadata": {
        "id": "6DTqdRU_EmcY"
      },
      "execution_count": null,
      "outputs": []
    },
    {
      "cell_type": "code",
      "source": [
        "f_source_txt.close()\n",
        "f_source_txt_line.close()"
      ],
      "metadata": {
        "id": "cZzeBTwPEmcY"
      },
      "execution_count": null,
      "outputs": []
    },
    {
      "cell_type": "markdown",
      "source": [
        "## Source 2\n",
        "\n"
      ],
      "metadata": {
        "id": "fw8vkRqHxXnJ"
      }
    },
    {
      "cell_type": "code",
      "source": [
        "# TO SET UP\n",
        "f_source_txt = open(\"source2.txt\", \"w\")\n",
        "f_source_txt_line = open(\"source2_line.txt\", \"w\")\n",
        "start_page = 65\n",
        "file_to_read = \"/content/2. Reichard, ‘Die bedetung von Tabora'.pdf\"\n",
        "images_dest = \"/content/source2_images/\"\n",
        "\n",
        "mode = 0o666\n",
        "os.mkdir(images_dest, mode)"
      ],
      "metadata": {
        "id": "F6dO2teJIGTm"
      },
      "execution_count": null,
      "outputs": []
    },
    {
      "cell_type": "code",
      "source": [
        "# Select the rectangle in the image, check the image directory\n",
        "doc = fitz.open(file_to_read)  # open document\n",
        "cur_page = start_page\n",
        "i = 0\n",
        "clip = fitz.Rect(0, 0, 0, 0)\n",
        "while i < 10:\n",
        "    page = doc[i]\n",
        "    zoom_x = 2  # horizontal zoom\n",
        "    zoom_y = 2  # vertical zoom\n",
        "    mat = fitz.Matrix(zoom_x, zoom_y)  # zoom factor 2 in each dimension\n",
        "    rect = page.rect  # the page rectangle\n",
        "\n",
        "    # left half\n",
        "    # set rectangle\n",
        "    clip_set = fitz.Rect(100, 70, 430, 900)  # the area we want  left (start) - top (start) - right (stop) - bottom (stop)\n",
        "    clip_l = clip_set\n",
        "    pix = page.get_pixmap(matrix=mat, clip=clip_l)  # use 'mat' instead of the identity matrix\n",
        "\n",
        "    save_dest = images_dest + str(cur_page) + \"_1\" + \".png\"\n",
        "    pix.save(save_dest)  # store image as a PNG\n",
        "\n",
        "\n",
        "    # right half\n",
        "    # set rectangle\n",
        "    clip_set = fitz.Rect(415, 70, 730, 900)  # the area we want  left (start) - top (start) - right (stop) - bottom (stop)\n",
        "    clip_r = clip_set\n",
        "    pix = page.get_pixmap(matrix=mat, clip=clip_r)  # use 'mat' instead of the identity matrix\n",
        "\n",
        "    save_dest = images_dest + str(cur_page)+ \"_2\" + \".png\"\n",
        "    pix.save(save_dest)  # store image as a PNG\n",
        "\n",
        "    cur_page += 1\n",
        "    i += 1"
      ],
      "metadata": {
        "id": "UG1mjcVKIGTn"
      },
      "execution_count": null,
      "outputs": []
    },
    {
      "cell_type": "code",
      "source": [
        "# read the pdf and convert pages into images\n",
        "cur_page = start_page\n",
        "for page in doc:  # iterate through the pages\n",
        "    zoom_x = 2.0  # horizontal zoom\n",
        "    zoom_y = 2.0  # vertical zoom\n",
        "    mat = fitz.Matrix(zoom_x, zoom_y)  # zoom factor 2 in each dimension\n",
        "    rect = page.rect  # the page rectangle\n",
        "\n",
        "    # left column\n",
        "    clip = clip_l  # the area we want  left (start) - top (start) - right (stop) - bottom (stop)\n",
        "    pix = page.get_pixmap(matrix=mat, clip=clip)  # use 'mat' instead of the identity matrix\n",
        "\n",
        "    save_dest = images_dest + str(cur_page) + \"_1\" + \".png\"\n",
        "    pix.save(save_dest)  # store image as a PNG\n",
        "\n",
        "\n",
        "    # right column\n",
        "    clip = clip_r  # the area we want  left (start) - top (start) - right (stop) - bottom (stop)\n",
        "    pix = page.get_pixmap(matrix=mat, clip=clip)  # use 'mat' instead of the identity matrix\n",
        "\n",
        "    save_dest = images_dest + str(cur_page) + \"_2\" + \".png\"\n",
        "    pix.save(save_dest)  # store image as a PNG\n",
        "\n",
        "    cur_page += 1"
      ],
      "metadata": {
        "id": "fg7w5sLWIGTn"
      },
      "execution_count": null,
      "outputs": []
    },
    {
      "cell_type": "code",
      "source": [
        "# combine the images into a pdf files\n",
        "# import PySimpleGUI as psg  # for showing a progress bar\n",
        "doc = fitz.open()  # PDF with the pictures\n",
        "imgdir = \"/content/source2_images\"  # where the pics are\n",
        "imglist = os.listdir(imgdir)  # list of them\n",
        "imglist.sort()\n",
        "imgcount = len(imglist)  # pic count\n",
        "\n",
        "for i, f in enumerate(imglist):\n",
        "    img = fitz.open(os.path.join(imgdir, f))  # open pic as document\n",
        "    rect = img[0].rect  # pic dimension\n",
        "    pdfbytes = img.convert_to_pdf()  # make a PDF stream\n",
        "    img.close()  # no longer needed\n",
        "    imgPDF = fitz.open(\"pdf\", pdfbytes)  # open stream as PDF\n",
        "    page = doc.new_page(width = rect.width,  # new page with ...\n",
        "                       height = rect.height)  # pic dimension\n",
        "    page.show_pdf_page(rect, imgPDF, 0)  # image fills the page\n",
        "    # psg.EasyProgressMeter(\"Import Images\",  # show our progress\n",
        "    #     i+1, imgcount)\n",
        "\n",
        "doc.save(\"source2.pdf\")"
      ],
      "metadata": {
        "id": "NqDSKLXWIGTn"
      },
      "execution_count": null,
      "outputs": []
    },
    {
      "cell_type": "code",
      "source": [
        "f_source_txt.close()\n",
        "f_source_txt_line.close()"
      ],
      "metadata": {
        "id": "nxUQbZv7IU1x"
      },
      "execution_count": null,
      "outputs": []
    },
    {
      "cell_type": "markdown",
      "source": [
        "## Source 3"
      ],
      "metadata": {
        "id": "czU5mXGtr7NY"
      }
    },
    {
      "cell_type": "code",
      "source": [
        "# TO SET UP\n",
        "f = open(\"source3.txt\", \"w\")\n",
        "f_line = open(\"source3_line.txt\", \"w\")\n",
        "start_page = 404\n",
        "file_to_read = \"/content/3. Schweinitz, Wanjamuesi....pdf\""
      ],
      "metadata": {
        "id": "PZnmMskWsACX"
      },
      "execution_count": null,
      "outputs": []
    },
    {
      "cell_type": "code",
      "source": [
        "pdf = pdfium.PdfDocument(file_to_read)\n",
        "version = pdf.get_version()  # get the PDF standard version\n",
        "n_pages = len(pdf)  # get the number of pages in the document"
      ],
      "metadata": {
        "id": "RGNfflPJZwP2"
      },
      "execution_count": null,
      "outputs": []
    },
    {
      "cell_type": "code",
      "source": [
        "# TO SET UP. Manually select the margins. Does it look right?\n",
        "bottom = 50\n",
        "top = 105\n",
        "sample_page = 2\n",
        "\n",
        "\n",
        "page = pdf[sample_page]  # load a page\n",
        "width, height = page.get_size()\n",
        "textpage = page.get_textpage()\n",
        "text_part = textpage.get_text_bounded(bottom=bottom, top=height-top)\n",
        "print(text_part)"
      ],
      "metadata": {
        "colab": {
          "base_uri": "https://localhost:8080/"
        },
        "id": "IC8i8v5Is0Wl",
        "outputId": "3bdb9fb6-420f-4892-cf13-dc89a3b59c44"
      },
      "execution_count": null,
      "outputs": [
        {
          "output_type": "stream",
          "name": "stdout",
          "text": [
            " (2) Als neue Mitglieder werden angemeldet:\r\n",
            " Hr. Oberst-Lieutenant a. D. Frobenius, Charlottenburg.\r\n",
            " „ stud. med. Bloch, Berlin.\r\n",
            " „ Direktor Härche, Prankenstein (Schlesien).\r\n",
            " „ Priyatdocent Dr. med. C. Posner, Berlin.\r\n",
            " (3) Zu unserer grossen Betrübniss hat Hr. Steinthal sich veranlasst gesehen,\r\n",
            " sein langjähriges Amt als Mitglied des Ausschusses niederzulegen. Schon, als yor\r\n",
            " wenigen Monaten sein Jubiläum gefeiert werden sollte, war er nicht imStande, den\r\n",
            " Vertreter der Gesellschaft zu empfangen. Wie er unter dem 8. d. M. sehr bewegt\r\n",
            " schreibt, hat die Hoffnung, welche er im Sommer hegte, dass er bis zum Winter\r\n",
            " seine rolle Kraft wieder erlangen werde, sich nicht erfüllt. Vorstand und Aus\r\n",
            " schuss sahen sich leider genöthigt, seinem Entschlüsse keinen Widerstand entgegen\r\n",
            " zu setzen, da das Interesse der Gesellschaft es dringend erfordert, die Mitglieder\r\n",
            " der beiden Vertretungskörper vollständig und activ zu sehen. Unsere herzlichen\r\n",
            " Wünsche, dass bald eine Besserung des Kranken dem hochgeschätzten Gelehrten\r\n",
            " gestatten möge, seine Arbeiten wieder aufzunehmen, werden inzwischen nicht ver\r\n",
            " stummen.\r\n",
            " Der Ausschuss hat in seiner heutigen Sitzung nach § 34 der Statuten ein neues\r\n",
            " Mitglied cooptirt. Hr. R. v. Kaufmann, auf welchen die Wahl gefallen ist,\r\n",
            " nimmt dieselbe an. —\r\n",
            " (4) Als Gäste sind in der Sitzung anwesend und werden von dem Vorsitzenden\r\n",
            " begrüsst: die HHrn. Marine-Stabsarzt Dr. Sander, der demnächst nach Südwest\r\n",
            " Africa abgehen wird, die Africa-Reisenden Graf Schweinitz und Lieutenant Meyer,\r\n",
            " die Geheim-Räthe Gurlt und Gaupp. —\r\n",
            " (5) Hr. Dr. P. Stuhlmann, der noch an diesem Abend seine Rückreise nach\r\n",
            " Ost-Africa antritt, sendet seine Abschiedsgrüsse. Seine Mission betrifft diesmal die\r\n",
            " Aufnahme der Küstengebiete. Der erste Band seines grossen Reisewerkes, den er\r\n",
            " selbst verfasst hat und der werthvolle Originalmittheilungen von Em in Pascha\r\n",
            " enthält, ist so eben vollendet worden. —\r\n",
            " (6) Das correspondirende Mitglied, Hr. Bernhard Ornstein meldet aus München,\r\n",
            " 9. October, dass er demnächst seine Heimreise nach Athen antreten werde. —\r\n",
            " (7) Das correspondirende Mitglied, Hr. G. Rad de meldet ausTiflis, 4./16.Septbr.,\r\n",
            " seine Rückkehr von der Reise in den westlichen Kaukasus, die seine Zeit von\r\n",
            " Ende März an in Anspruch nahm. Anfang Mai will er wieder aufbrechen, um\r\n",
            " den Sommer zu einer Bereisung der östlichen Tiefländer, des Pusses des Dagestan\r\n",
            " und der Westküste des kaspischen Meeres bis Baku zu verwenden. —\r\n",
            " (8) Hr. Paul Ascherson erstattet Bericht über die von Mr. Prank Calvert\r\n",
            " (S. 369) aus den Dardanellen eingeschickte\r\n",
            " Mandragora.\r\n",
            " Das Ergebniss der von meinem Assistenten Hrn. Graebner ausgeführten\r\n",
            " mikroskopischen Untersuchung einer Oberflächenprobe ergab völlige Ueberein\r\n",
            " stimmung des Gewebes mit Mandragoras, namentlich auch in der charakteristischen\r\n",
            " Form der Stärkekörner, wogegen die der gleichfalls untersuchten Bryonia eine ab\r\n",
            " weichende Form zeigen. Es scheint also, dass dieser Alraun aus einer ungewöhnlich\r\n",
            " grossen und dicken Wurzel, deren intacte Oberfläche sich auch im unteren Theile\n"
          ]
        }
      ]
    },
    {
      "cell_type": "code",
      "source": [
        "# Write the extracted text into the text file\n",
        "for page_num in range(1, n_pages):\n",
        "    page = pdf[page_num]  # load a page\n",
        "    textpage = page.get_textpage()\n",
        "    text_part = textpage.get_text_bounded(bottom=bottom, top=height-top)\n",
        "\n",
        "    page = \"Page \" + str(start_page+page_num)\n",
        "    f_line.write(page)\n",
        "    f_line.write(\"\\n\\n\")\n",
        "    f_line.write(text_part)\n",
        "    f_line.write(\"\\n\\n\\n\")\n",
        "\n",
        "    # get rid of line\n",
        "    text_part = text_part.replace(\"\\r\\n\", \" \")\n",
        "\n",
        "    f.write(page)\n",
        "    f.write(\"\\n\\n\")\n",
        "    f.write(text_part)\n",
        "    f.write(\"\\n\\n\\n\")"
      ],
      "metadata": {
        "id": "NWbP6bjQvND-"
      },
      "execution_count": null,
      "outputs": []
    },
    {
      "cell_type": "code",
      "source": [
        "f.close()\n",
        "f_line.close()"
      ],
      "metadata": {
        "id": "lI0JgabJv1qr"
      },
      "execution_count": null,
      "outputs": []
    },
    {
      "cell_type": "markdown",
      "source": [
        "## Source 4"
      ],
      "metadata": {
        "id": "jDRu_UXbxYvN"
      }
    },
    {
      "cell_type": "code",
      "source": [
        "# TO SET UP\n",
        "f_source_txt = open(\"source4.txt\", \"w\")\n",
        "f_source_txt_line = open(\"source4_line.txt\", \"w\")\n",
        "start_page = 200\n",
        "file_to_read = \"/content/4. Spellig, Die Wanjamwesi.pdf\"\n",
        "images_dest = \"/content/source4_images/\"\n",
        "\n",
        "mode = 0o666\n",
        "os.mkdir(images_dest, mode)"
      ],
      "metadata": {
        "id": "KPrwaswZKdme"
      },
      "execution_count": null,
      "outputs": []
    },
    {
      "cell_type": "code",
      "source": [
        "# Select the rectangle in the image, check the image directory\n",
        "doc = fitz.open(file_to_read)  # open document\n",
        "cur_page = start_page\n",
        "i = 0\n",
        "clip = fitz.Rect(0, 0, 0, 0)\n",
        "while i < 10:\n",
        "    page = doc[i]\n",
        "    zoom_x = 3.0  # horizontal zoom\n",
        "    zoom_y = 3.0  # vertical zoom\n",
        "    mat = fitz.Matrix(zoom_x, zoom_y)  # zoom factor 2 in each dimension\n",
        "    rect = page.rect  # the page rectangle\n",
        "\n",
        "    # set rectangle\n",
        "    clip_set = fitz.Rect(40, 53, 430, 680)  # the area we want  left (start) - top (start) - right (stop) - bottom (stop)\n",
        "    clip = clip_set\n",
        "    pix = page.get_pixmap(matrix=mat, clip=clip)  # use 'mat' instead of the identity matrix\n",
        "    save_dest = images_dest + str(cur_page) + \".png\"\n",
        "    pix.save(save_dest)  # store image as a PNG\n",
        "    cur_page += 1\n",
        "    i += 1"
      ],
      "metadata": {
        "id": "sPSdXFmcKdme"
      },
      "execution_count": null,
      "outputs": []
    },
    {
      "cell_type": "code",
      "source": [
        "# read the pdf and convert pages into images\n",
        "cur_page = start_page\n",
        "for page in doc:  # iterate through the pages\n",
        "    zoom_x = 3.0  # horizontal zoom\n",
        "    zoom_y = 3.0  # vertical zoom\n",
        "    mat = fitz.Matrix(zoom_x, zoom_y)  # zoom factor 2 in each dimension\n",
        "    rect = page.rect  # the page rectangle\n",
        "    clip = clip  # the area we want  left (start) - top (start) - right (stop) - bottom (stop)\n",
        "    pix = page.get_pixmap(matrix=mat, clip=clip)  # use 'mat' instead of the identity matrix\n",
        "    save_dest = images_dest + str(cur_page) + \".png\"\n",
        "    pix.save(save_dest)  # store image as a PNG\n",
        "    cur_page += 1"
      ],
      "metadata": {
        "id": "YmimkZIbKdme"
      },
      "execution_count": null,
      "outputs": []
    },
    {
      "cell_type": "code",
      "source": [
        "# extract the texts of the images\n",
        "filelist = glob.glob(os.path.join(images_dest, '*.png'))\n",
        "\n",
        "cur_page = start_page\n",
        "for infile in sorted(filelist):\n",
        "    text = pytesseract.image_to_string(Image.open(infile), lang='deu')\n",
        "    page = \"Page \" + str(cur_page)\n",
        "\n",
        "    f_source_txt_line.write(page)\n",
        "    f_source_txt_line.write(\"\\n\\n\")\n",
        "    f_source_txt_line.write(text)\n",
        "    f_source_txt_line.write(\"\\n\\n\\n\")\n",
        "\n",
        "    # get rid of line\n",
        "    for i in range(len(text)-1):\n",
        "        if text[i] == \"\\n\" and text[i+1] != \"\\n\":\n",
        "            text = text.replace(text[i], \" \")\n",
        "\n",
        "    f_source_txt.write(page)\n",
        "    f_source_txt.write(\"\\n\\n\")\n",
        "    f_source_txt.write(text)\n",
        "    f_source_txt.write(\"\\n\\n\\n\")\n",
        "\n",
        "    cur_page += 1"
      ],
      "metadata": {
        "id": "1g0RjZ3iKdmf"
      },
      "execution_count": null,
      "outputs": []
    },
    {
      "cell_type": "code",
      "source": [
        "f_source_txt.close()\n",
        "f_source_txt_line.close()"
      ],
      "metadata": {
        "id": "fdktf43oKdmf"
      },
      "execution_count": null,
      "outputs": []
    },
    {
      "cell_type": "markdown",
      "source": [
        "## Source 5"
      ],
      "metadata": {
        "id": "w7yoKTfw5Ufd"
      }
    },
    {
      "cell_type": "code",
      "source": [
        "# TO SET UP\n",
        "f_source_txt = open(\"source5.txt\", \"w\")\n",
        "f_source_txt_line = open(\"source5_line.txt\", \"w\")\n",
        "start_page = 61\n",
        "file_to_read = \"/content/5. Spellig, Über Geheimbünde bei den Wanyamwezi.pdf\"\n",
        "images_dest = \"/content/source5_images/\"\n",
        "\n",
        "mode = 0o666\n",
        "os.mkdir(images_dest, mode)"
      ],
      "metadata": {
        "id": "tydr8s8mMVRI"
      },
      "execution_count": null,
      "outputs": []
    },
    {
      "cell_type": "code",
      "source": [
        "# Select the rectangle in the image, check the image directory\n",
        "doc = fitz.open(file_to_read)  # open document\n",
        "cur_page = start_page\n",
        "i = 0\n",
        "clip = fitz.Rect(0, 0, 0, 0)\n",
        "while i < 6:\n",
        "    page = doc[i]\n",
        "    zoom_x = 3.0  # horizontal zoom\n",
        "    zoom_y = 3.0  # vertical zoom\n",
        "    mat = fitz.Matrix(zoom_x, zoom_y)  # zoom factor 2 in each dimension\n",
        "    rect = page.rect  # the page rectangle\n",
        "\n",
        "    # set rectangle\n",
        "    clip_set = fitz.Rect(40, 60, 430, 680)  # the area we want  left (start) - top (start) - right (stop) - bottom (stop)\n",
        "    clip = clip_set\n",
        "    pix = page.get_pixmap(matrix=mat, clip=clip)  # use 'mat' instead of the identity matrix\n",
        "    save_dest = images_dest + str(cur_page) + \".png\"\n",
        "    pix.save(save_dest)  # store image as a PNG\n",
        "    cur_page += 1\n",
        "    i += 1"
      ],
      "metadata": {
        "id": "F2Xs4cFYMVRI"
      },
      "execution_count": null,
      "outputs": []
    },
    {
      "cell_type": "code",
      "source": [
        "# read the pdf and convert pages into images\n",
        "cur_page = start_page\n",
        "for page in doc:  # iterate through the pages\n",
        "    zoom_x = 3.0  # horizontal zoom\n",
        "    zoom_y = 3.0  # vertical zoom\n",
        "    mat = fitz.Matrix(zoom_x, zoom_y)  # zoom factor 2 in each dimension\n",
        "    rect = page.rect  # the page rectangle\n",
        "    clip = clip  # the area we want  left (start) - top (start) - right (stop) - bottom (stop)\n",
        "    pix = page.get_pixmap(matrix=mat, clip=clip)  # use 'mat' instead of the identity matrix\n",
        "    save_dest = images_dest + str(cur_page) + \".png\"\n",
        "    pix.save(save_dest)  # store image as a PNG\n",
        "    cur_page += 1"
      ],
      "metadata": {
        "id": "qXWhCiRVMVRJ"
      },
      "execution_count": null,
      "outputs": []
    },
    {
      "cell_type": "code",
      "source": [
        "# extract the texts of the images\n",
        "filelist = glob.glob(os.path.join(images_dest, '*.png'))\n",
        "\n",
        "cur_page = start_page\n",
        "for infile in sorted(filelist):\n",
        "    text = pytesseract.image_to_string(Image.open(infile), lang='deu')\n",
        "    page = \"Page \" + str(cur_page)\n",
        "\n",
        "    f_source_txt_line.write(page)\n",
        "    f_source_txt_line.write(\"\\n\\n\")\n",
        "    f_source_txt_line.write(text)\n",
        "    f_source_txt_line.write(\"\\n\\n\\n\")\n",
        "\n",
        "    # get rid of line\n",
        "    for i in range(len(text)-1):\n",
        "        if text[i] == \"\\n\" and text[i+1] != \"\\n\":\n",
        "            text = text.replace(text[i], \" \")\n",
        "\n",
        "    f_source_txt.write(page)\n",
        "    f_source_txt.write(\"\\n\\n\")\n",
        "    f_source_txt.write(text)\n",
        "    f_source_txt.write(\"\\n\\n\\n\")\n",
        "\n",
        "    cur_page += 1"
      ],
      "metadata": {
        "id": "aNQWxJ5WMVRJ"
      },
      "execution_count": null,
      "outputs": []
    },
    {
      "cell_type": "code",
      "source": [
        "f_source_txt.close()\n",
        "f_source_txt_line.close()"
      ],
      "metadata": {
        "id": "HzDNQhGPMVRJ"
      },
      "execution_count": null,
      "outputs": []
    },
    {
      "cell_type": "markdown",
      "source": [
        "## Source 6"
      ],
      "metadata": {
        "id": "UyfpGNsODg0g"
      }
    },
    {
      "cell_type": "code",
      "source": [
        "# TO SET UP\n",
        "f_source_txt = open(\"source6.txt\", \"w\")\n",
        "f_source_txt_line = open(\"source6_line.txt\", \"w\")\n",
        "start_page = 246\n",
        "file_to_read = \"/content/6. LOG_0030 (1).pdf\"\n",
        "images_dest = \"/content/source6_images/\"\n",
        "\n",
        "mode = 0o666\n",
        "os.mkdir(images_dest, mode)"
      ],
      "metadata": {
        "id": "58f9QkZ9MWeU"
      },
      "execution_count": null,
      "outputs": []
    },
    {
      "cell_type": "code",
      "source": [
        "# Select the rectangle in the image, check the image directory\n",
        "doc = fitz.open(file_to_read)  # open document\n",
        "cur_page = start_page\n",
        "i = 0\n",
        "clip = fitz.Rect(0, 0, 0, 0)\n",
        "while i < 10:\n",
        "    page = doc[i]\n",
        "    zoom_x = 3.0  # horizontal zoom\n",
        "    zoom_y = 3.0  # vertical zoom\n",
        "    mat = fitz.Matrix(zoom_x, zoom_y)  # zoom factor 2 in each dimension\n",
        "    rect = page.rect  # the page rectangle\n",
        "\n",
        "    # set rectangle\n",
        "    clip_set = fitz.Rect(120, 165, 480, 715)  # the area we want  left (start) - top (start) - right (stop) - bottom (stop)\n",
        "    clip = clip_set\n",
        "    pix = page.get_pixmap(matrix=mat, clip=clip)  # use 'mat' instead of the identity matrix\n",
        "    save_dest = images_dest + str(cur_page) + \".png\"\n",
        "    pix.save(save_dest)  # store image as a PNG\n",
        "    cur_page += 1\n",
        "    i += 1"
      ],
      "metadata": {
        "id": "XfeCZ0unMWeU"
      },
      "execution_count": null,
      "outputs": []
    },
    {
      "cell_type": "code",
      "source": [
        "# read the pdf and convert pages into images\n",
        "cur_page = start_page\n",
        "for page in doc:  # iterate through the pages\n",
        "    zoom_x = 3.0  # horizontal zoom\n",
        "    zoom_y = 3.0  # vertical zoom\n",
        "    mat = fitz.Matrix(zoom_x, zoom_y)  # zoom factor 2 in each dimension\n",
        "    rect = page.rect  # the page rectangle\n",
        "    clip = clip  # the area we want  left (start) - top (start) - right (stop) - bottom (stop)\n",
        "    pix = page.get_pixmap(matrix=mat, clip=clip)  # use 'mat' instead of the identity matrix\n",
        "    save_dest = images_dest + str(cur_page) + \".png\"\n",
        "    pix.save(save_dest)  # store image as a PNG\n",
        "    cur_page += 1"
      ],
      "metadata": {
        "id": "_pychcsGMWeV"
      },
      "execution_count": null,
      "outputs": []
    },
    {
      "cell_type": "code",
      "source": [
        "# extract the texts of the images\n",
        "filelist = glob.glob(os.path.join(images_dest, '*.png'))\n",
        "\n",
        "cur_page = start_page\n",
        "for infile in sorted(filelist):\n",
        "    text = pytesseract.image_to_string(Image.open(infile), lang='deu')\n",
        "    page = \"Page \" + str(cur_page)\n",
        "\n",
        "    f_source_txt_line.write(page)\n",
        "    f_source_txt_line.write(\"\\n\\n\")\n",
        "    f_source_txt_line.write(text)\n",
        "    f_source_txt_line.write(\"\\n\\n\\n\")\n",
        "\n",
        "    # get rid of line\n",
        "    for i in range(len(text)-1):\n",
        "        if text[i] == \"\\n\" and text[i+1] != \"\\n\":\n",
        "            text = text.replace(text[i], \" \")\n",
        "\n",
        "    f_source_txt.write(page)\n",
        "    f_source_txt.write(\"\\n\\n\")\n",
        "    f_source_txt.write(text)\n",
        "    f_source_txt.write(\"\\n\\n\\n\")\n",
        "\n",
        "    cur_page += 1"
      ],
      "metadata": {
        "id": "4wwnPGwiMWeV"
      },
      "execution_count": null,
      "outputs": []
    },
    {
      "cell_type": "code",
      "source": [
        "f_source_txt.close()\n",
        "f_source_txt_line.close()"
      ],
      "metadata": {
        "id": "KOmulaBwMWeV"
      },
      "execution_count": null,
      "outputs": []
    },
    {
      "cell_type": "code",
      "source": [
        "import pypdfium2 as pdfium\n",
        "import pytesseract\n",
        "import shutil\n",
        "import os\n",
        "import random\n",
        "try:\n",
        " from PIL import Image\n",
        "except ImportError:\n",
        " import Image\n",
        "import sys, fitz\n",
        "import glob"
      ],
      "metadata": {
        "id": "b2cVJbLyxhPU"
      },
      "execution_count": null,
      "outputs": []
    },
    {
      "cell_type": "markdown",
      "source": [
        "## Source 7"
      ],
      "metadata": {
        "id": "2I5cmuAGxhPU"
      }
    },
    {
      "cell_type": "code",
      "source": [
        "# TO SET UP\n",
        "# f_source_txt = open(\"source7.txt\", \"w\")\n",
        "# f_source_txt_line = open(\"source7_line.txt\", \"w\")\n",
        "start_page = -1\n",
        "file_to_read = \"/content/7. Reichard, Die Nyamwesi, Deutsche Kolonialzeitung Neue Folge 3 (1890).pdf\"\n",
        "images_dest = \"/content/source7_2_images/\"\n",
        "\n",
        "mode = 0o666\n",
        "os.mkdir(images_dest, mode)"
      ],
      "metadata": {
        "id": "KLmbzIcqxhPU"
      },
      "execution_count": null,
      "outputs": []
    },
    {
      "cell_type": "code",
      "source": [
        "# Select the rectangle in the image, check the image directory\n",
        "doc = fitz.open(file_to_read)  # open document\n",
        "cur_page = start_page\n",
        "i = 0\n",
        "clip = fitz.Rect(0, 0, 0, 0)\n",
        "while i < 15:\n",
        "    page = doc[i]\n",
        "    zoom_x = 2.0  # horizontal zoom\n",
        "    zoom_y = 2.0  # vertical zoom\n",
        "    mat = fitz.Matrix(zoom_x, zoom_y)  # zoom factor 2 in each dimension\n",
        "    rect = page.rect  # the page rectangle\n",
        "\n",
        "    # left half\n",
        "    # set rectangle\n",
        "    clip_set = fitz.Rect(65, 40, 310, 645)  # the area we want  left (start) - top (start) - right (stop) - bottom (stop)\n",
        "    clip_l = clip_set\n",
        "    pix = page.get_pixmap(matrix=mat, clip=clip_l)  # use 'mat' instead of the identity matrix\n",
        "\n",
        "    # file name\n",
        "    if len(str(cur_page)) == 1:\n",
        "        cur_page_str = \"00\" + str(cur_page)\n",
        "    elif len(str(cur_page)) == 2:\n",
        "        cur_page_str = \"0\" + str(cur_page)\n",
        "    else:\n",
        "        cur_page_str = str(cur_page)\n",
        "\n",
        "    save_dest = images_dest + cur_page_str + \"_1\" + \".png\"\n",
        "    pix.save(save_dest)  # store image as a PNG\n",
        "\n",
        "\n",
        "    # right half\n",
        "    # set rectangle\n",
        "    clip_set = fitz.Rect(285, 40, 530, 645)  # the area we want  left (start) - top (start) - right (stop) - bottom (stop)\n",
        "    clip_r = clip_set\n",
        "    pix = page.get_pixmap(matrix=mat, clip=clip_r)  # use 'mat' instead of the identity matrix\n",
        "\n",
        "    # file name\n",
        "    if len(str(cur_page)) == 1:\n",
        "        cur_page_str = \"00\" + str(cur_page)\n",
        "    elif len(str(cur_page)) == 2:\n",
        "        cur_page_str = \"0\" + str(cur_page)\n",
        "    else:\n",
        "        cur_page_str = str(cur_page)\n",
        "\n",
        "    save_dest = images_dest + cur_page_str + \"_2\" + \".png\"\n",
        "    pix.save(save_dest)  # store image as a PNG\n",
        "\n",
        "    cur_page += 1\n",
        "    i += 1"
      ],
      "metadata": {
        "id": "t_QAX19TxhPU"
      },
      "execution_count": null,
      "outputs": []
    },
    {
      "cell_type": "code",
      "source": [
        "# read the pdf and convert pages into images\n",
        "cur_page = start_page\n",
        "for page in doc:  # iterate through the pages\n",
        "    zoom_x = 2.0  # horizontal zoom\n",
        "    zoom_y = 2.0  # vertical zoom\n",
        "    mat = fitz.Matrix(zoom_x, zoom_y)  # zoom factor 2 in each dimension\n",
        "    rect = page.rect  # the page rectangle\n",
        "\n",
        "    # left column\n",
        "    clip = clip_l  # the area we want  left (start) - top (start) - right (stop) - bottom (stop)\n",
        "    pix = page.get_pixmap(matrix=mat, clip=clip)  # use 'mat' instead of the identity matrix\n",
        "\n",
        "    # file name\n",
        "    if len(str(cur_page)) == 1:\n",
        "        cur_page_str = \"00\" + str(cur_page)\n",
        "    elif len(str(cur_page)) == 2:\n",
        "        cur_page_str = \"0\" + str(cur_page)\n",
        "    else:\n",
        "        cur_page_str = str(cur_page)\n",
        "\n",
        "    save_dest = images_dest + cur_page_str + \"_1\" + \".png\"\n",
        "    pix.save(save_dest)  # store image as a PNG\n",
        "\n",
        "\n",
        "    # right column\n",
        "    clip = clip_r  # the area we want  left (start) - top (start) - right (stop) - bottom (stop)\n",
        "    pix = page.get_pixmap(matrix=mat, clip=clip)  # use 'mat' instead of the identity matrix\n",
        "\n",
        "    # file name\n",
        "    if len(str(cur_page)) == 1:\n",
        "        cur_page_str = \"00\" + str(cur_page)\n",
        "    elif len(str(cur_page)) == 2:\n",
        "        cur_page_str = \"0\" + str(cur_page)\n",
        "    else:\n",
        "        cur_page_str = str(cur_page)\n",
        "\n",
        "    save_dest = images_dest + cur_page_str + \"_2\" + \".png\"\n",
        "    pix.save(save_dest)  # store image as a PNG\n",
        "\n",
        "    cur_page += 1"
      ],
      "metadata": {
        "id": "DAvuq15txhPU"
      },
      "execution_count": null,
      "outputs": []
    },
    {
      "cell_type": "code",
      "source": [
        "# combine the images into a pdf files\n",
        "# import PySimpleGUI as psg  # for showing a progress bar\n",
        "doc = fitz.open()  # PDF with the pictures\n",
        "imgdir = \"/content/source7_2_images\"  # where the pics are\n",
        "imglist = os.listdir(imgdir)  # list of them\n",
        "imglist.sort()\n",
        "imgcount = len(imglist)  # pic count\n",
        "\n",
        "for i, f in enumerate(imglist):\n",
        "    img = fitz.open(os.path.join(imgdir, f))  # open pic as document\n",
        "    rect = img[0].rect  # pic dimension\n",
        "    pdfbytes = img.convert_to_pdf()  # make a PDF stream\n",
        "    img.close()  # no longer needed\n",
        "    imgPDF = fitz.open(\"pdf\", pdfbytes)  # open stream as PDF\n",
        "    page = doc.new_page(width = rect.width,  # new page with ...\n",
        "                       height = rect.height)  # pic dimension\n",
        "    page.show_pdf_page(rect, imgPDF, 0)  # image fills the page\n",
        "    # psg.EasyProgressMeter(\"Import Images\",  # show our progress\n",
        "    #     i+1, imgcount)\n",
        "\n",
        "doc.save(\"source7_ver2.pdf\")"
      ],
      "metadata": {
        "id": "P3IN5uz9C-e6"
      },
      "execution_count": null,
      "outputs": []
    },
    {
      "cell_type": "code",
      "source": [
        "with open(\"/content/source7_ver2.pdf\", 'rb') as pdf_file:\n",
        "        # Create a PDF reader object\n",
        "        pdf_reader = PyPDF2.PdfReader(pdf_file)\n",
        "\n",
        "        # Iterate through each group of pages and create a new PDF file for each group\n",
        "        for file_number in range(7):\n",
        "            # Create a new PDF writer object\n",
        "            pdf_writer = PyPDF2.PdfWriter()\n",
        "\n",
        "            # Calculate the start and end pages for the current group\n",
        "            start_page = file_number * 100\n",
        "            end_page = min((file_number + 1) * 100, len(pdf_reader.pages))\n",
        "\n",
        "            # Add the pages to the new PDF writer\n",
        "            for page_number in range(start_page, end_page):\n",
        "                pdf_writer.add_page(pdf_reader.pages[page_number])\n",
        "\n",
        "            # Create a new PDF file for each group\n",
        "            output_file = f\"/content/source_7_{file_number + 1}.pdf\"\n",
        "\n",
        "            # Write the new PDF file\n",
        "            with open(output_file, 'wb') as output_pdf:\n",
        "                pdf_writer.write(output_pdf)"
      ],
      "metadata": {
        "id": "c35_RWxBVMzY"
      },
      "execution_count": null,
      "outputs": []
    }
  ]
}