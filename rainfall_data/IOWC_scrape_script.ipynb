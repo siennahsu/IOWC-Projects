{
  "cells": [
    {
      "cell_type": "code",
      "source": [
        "START_YEAR = 1870\n",
        "END_YEAR = 1920"
      ],
      "metadata": {
        "id": "VCdCqFtu97xw"
      },
      "execution_count": null,
      "outputs": []
    },
    {
      "cell_type": "code",
      "execution_count": null,
      "metadata": {
        "id": "dleDkxe3SNp7"
      },
      "outputs": [],
      "source": [
        "from bs4 import BeautifulSoup\n",
        "from urllib.request import urlopen\n",
        "import os"
      ]
    },
    {
      "cell_type": "code",
      "source": [
        "# create a directory where the individual station data will be stored\n",
        "individual_station_data_path = \"./individual_station_data\"\n",
        "os.mkdir(individual_station_data_path)\n",
        "\n",
        "# create the file for all stations' data\n",
        "file_name = \"all_stations_data.csv\"\n",
        "file_path = \"./\" + file_name\n",
        "\n",
        "all_data_file = open(file_path, \"w\")\n",
        "all_data_file.write(\"ID,Location Name,Latitude,Longitude,Date,Rainfall (mm),Avg Rainfall (mm),Rainfall (% anomaly)\\n\")\n",
        "\n",
        "ID_all = 1"
      ],
      "metadata": {
        "id": "BURhtNNL5puK"
      },
      "execution_count": null,
      "outputs": []
    },
    {
      "cell_type": "code",
      "execution_count": null,
      "metadata": {
        "colab": {
          "base_uri": "https://localhost:8080/"
        },
        "id": "Si0DvybtSPSL",
        "outputId": "64362315-b3c7-4265-c547-d828619d9d09"
      },
      "outputs": [
        {
          "output_type": "stream",
          "name": "stderr",
          "text": [
            "<ipython-input-4-05068de22fbc>:6: DeprecationWarning: The 'text' argument to find()-type methods is deprecated. Use 'string' instead.\n",
            "  all_stations_links = all_stations_soup.find_all(\"a\", text='get data')\n"
          ]
        }
      ],
      "source": [
        "# read the html file of the search results\n",
        "with open(\"/content/Climate Explorer_ Found station data.html\") as fp:\n",
        "    all_stations_soup = BeautifulSoup(fp, 'html.parser')\n",
        "\n",
        "# gather all the station links\n",
        "all_stations_links = all_stations_soup.find_all(\"a\", text='get data')"
      ]
    },
    {
      "cell_type": "markdown",
      "source": [
        "## Regular scraper script"
      ],
      "metadata": {
        "id": "AX4sar0hBrhK"
      }
    },
    {
      "cell_type": "code",
      "source": [
        "# process each station's data\n",
        "\n",
        "station_ID = 1\n",
        "\n",
        "for station_link in all_stations_links:\n",
        "    # go to the page of the station\n",
        "    station_link = station_link['href']\n",
        "    #station_link.replace(\"amp\", \"\")\n",
        "    url = station_link\n",
        "    html = urlopen(url)\n",
        "    station_link_soup = BeautifulSoup(html, 'lxml')\n",
        "\n",
        "    # get the monthly rainfall data\n",
        "    data_links = station_link_soup.find_all(\"a\", text='raw data')\n",
        "    first_raw_data_link = \"https://climexp.knmi.nl/\" + data_links[0][\"href\"]\n",
        "    url = first_raw_data_link\n",
        "    html = urlopen(url)\n",
        "    first_raw_data_soup = BeautifulSoup(html, 'lxml')\n",
        "\n",
        "    # get the mean montly rainfall data\n",
        "    second_raw_data_link = \"https://climexp.knmi.nl/\" + data_links[1][\"href\"]\n",
        "    url = second_raw_data_link\n",
        "    html = urlopen(url)\n",
        "    second_raw_data_soup = BeautifulSoup(html, 'lxml')\n",
        "\n",
        "    # process the monthly rainfall data\n",
        "    first_raw_data_content = first_raw_data_soup.find(\"p\")\n",
        "    first_raw_data_content = str(first_raw_data_content)\n",
        "    first_raw_data_content = first_raw_data_content.split(\"\\n\")\n",
        "\n",
        "    # get the location name\n",
        "    location_name = first_raw_data_content[1]\n",
        "    location_name = location_name.replace(\"#\", \"\").replace(\"%\", \"\").replace(\",\", \" \")\n",
        "    replace_slash = [\"/ \", \" /\", \" / \"]\n",
        "    for slash in replace_slash:\n",
        "        if slash in location_name:\n",
        "            location_name = location_name.replace(slash, \"/\")\n",
        "    location_name = ' '.join(location_name.split())\n",
        "\n",
        "    # get the coordinates\n",
        "    coordinates = [i for i in first_raw_data_content if \"coordinates\" in i][0]\n",
        "    coordinates = coordinates.replace(\",\", \"\").replace(\"#\", \"\")\n",
        "    coordinates = coordinates.split()\n",
        "    latitude = coordinates[1]\n",
        "    longtitude = coordinates[2]\n",
        "\n",
        "    # get the montly rainfall data from start year to end year\n",
        "    data = []\n",
        "    for year in range(START_YEAR, END_YEAR + 1):\n",
        "        year = str(year)\n",
        "        row = [i for i in first_raw_data_content if year in i and \"#\" not in i]\n",
        "        if len(row) == 0:\n",
        "            pass\n",
        "        else:\n",
        "            row = row[0]\n",
        "            if row[0] == \" \":\n",
        "                row = row[1:]\n",
        "            row = row.split()\n",
        "            if len(row) != 13:\n",
        "                print(row)\n",
        "                raise Exception(location_name + \" at year \" + year + \" has missing data.\")\n",
        "            data.append(row)\n",
        "\n",
        "    # format the monthly rainfall data and add the year and month\n",
        "    year_and_rainfall = []\n",
        "    for datapoint in data:\n",
        "        year = datapoint[0]\n",
        "        for i in range(1,13):\n",
        "            if i > 9:\n",
        "                month = str(i)\n",
        "            else:\n",
        "                month = '0' + str(i)\n",
        "\n",
        "            date = year + \"-\" + month + \"-01\"\n",
        "            rainfall = float(datapoint[i])\n",
        "            year_and_rainfall.append([date, rainfall])\n",
        "\n",
        "    # process the mean monthly rainfall data\n",
        "    second_raw_data_content = second_raw_data_soup.find(\"p\")\n",
        "    second_raw_data_content = str(second_raw_data_content)\n",
        "    second_raw_data_content = second_raw_data_content.split(\"\\n\")\n",
        "\n",
        "    mean_rainfalls = []\n",
        "    for i in range(1,13):\n",
        "        if i > 9:\n",
        "            month = str(i)\n",
        "        else:\n",
        "            month = \"0\" + str(i)\n",
        "        month = \"2000\" + month + \"01\"\n",
        "        monthly_data = [i for i in second_raw_data_content if month in i][0].split()\n",
        "        mean_rainfall = monthly_data[1]\n",
        "        mean_rainfalls.append(mean_rainfall)\n",
        "\n",
        "    # combine the monthly rainfall data and mean montly rainfall data, calculate the anomaly\n",
        "    for i in range(len(year_and_rainfall)):\n",
        "        month = (i+1) % 12\n",
        "        mean_rainfall = float(mean_rainfalls[month-1])\n",
        "        year_and_rainfall[i].append(mean_rainfall)\n",
        "        anomaly = round(year_and_rainfall[i][1] / year_and_rainfall[i][2] * 100 , 2)\n",
        "        # anomaly = 0\n",
        "        year_and_rainfall[i].append(anomaly)\n",
        "\n",
        "    # store the content into files\n",
        "    file_name = str(station_ID) + \"_\" + location_name.split()[0].lower().replace(\"/\", \"-\") + \".csv\"\n",
        "    file_path = individual_station_data_path + \"/\" + file_name\n",
        "\n",
        "    f = open(file_path, \"w\")\n",
        "    f.write(\"ID,Location Name,Latitude,Longitude,Date,Rainfall (mm),Avg Rainfall (mm),Rainfall (% anomaly)\\n\")\n",
        "\n",
        "    ID = 1\n",
        "    for data in year_and_rainfall:\n",
        "        new_row = str(ID) + \",\" + location_name + \",\" + latitude + \",\" + longtitude + \\\n",
        "                  \",\" + data[0] + \",\" + str(data[1]) + \",\" + str(data[2]) + \",\" + str(data[3]) + \"\\n\"\n",
        "        f.write(new_row)\n",
        "        ID +=1\n",
        "\n",
        "        new_row_all = str(ID_all) + \",\" + location_name + \",\" + latitude + \",\" + longtitude + \\\n",
        "                  \",\" + data[0] + \",\" + str(data[1]) + \",\" + str(data[2]) + \",\" + str(data[3]) + \"\\n\"\n",
        "        all_data_file.write(new_row_all)\n",
        "        ID_all +=1\n",
        "\n",
        "    f.close()\n",
        "    station_ID += 1"
      ],
      "metadata": {
        "colab": {
          "base_uri": "https://localhost:8080/",
          "height": 420
        },
        "id": "V5ZkYT-26amd",
        "outputId": "1d7b732f-f68d-4fd2-9bbe-4a3d0987f82b"
      },
      "execution_count": null,
      "outputs": [
        {
          "output_type": "stream",
          "name": "stderr",
          "text": [
            "<ipython-input-5-31a551e93445>:14: DeprecationWarning: The 'text' argument to find()-type methods is deprecated. Use 'string' instead.\n",
            "  data_links = station_link_soup.find_all(\"a\", text='raw data')\n"
          ]
        },
        {
          "output_type": "error",
          "ename": "KeyboardInterrupt",
          "evalue": "",
          "traceback": [
            "\u001b[0;31m---------------------------------------------------------------------------\u001b[0m",
            "\u001b[0;31mKeyboardInterrupt\u001b[0m                         Traceback (most recent call last)",
            "\u001b[0;32m<ipython-input-5-31a551e93445>\u001b[0m in \u001b[0;36m<cell line: 5>\u001b[0;34m()\u001b[0m\n\u001b[1;32m     15\u001b[0m     \u001b[0mfirst_raw_data_link\u001b[0m \u001b[0;34m=\u001b[0m \u001b[0;34m\"https://climexp.knmi.nl/\"\u001b[0m \u001b[0;34m+\u001b[0m \u001b[0mdata_links\u001b[0m\u001b[0;34m[\u001b[0m\u001b[0;36m0\u001b[0m\u001b[0;34m]\u001b[0m\u001b[0;34m[\u001b[0m\u001b[0;34m\"href\"\u001b[0m\u001b[0;34m]\u001b[0m\u001b[0;34m\u001b[0m\u001b[0;34m\u001b[0m\u001b[0m\n\u001b[1;32m     16\u001b[0m     \u001b[0murl\u001b[0m \u001b[0;34m=\u001b[0m \u001b[0mfirst_raw_data_link\u001b[0m\u001b[0;34m\u001b[0m\u001b[0;34m\u001b[0m\u001b[0m\n\u001b[0;32m---> 17\u001b[0;31m     \u001b[0mhtml\u001b[0m \u001b[0;34m=\u001b[0m \u001b[0murlopen\u001b[0m\u001b[0;34m(\u001b[0m\u001b[0murl\u001b[0m\u001b[0;34m)\u001b[0m\u001b[0;34m\u001b[0m\u001b[0;34m\u001b[0m\u001b[0m\n\u001b[0m\u001b[1;32m     18\u001b[0m     \u001b[0mfirst_raw_data_soup\u001b[0m \u001b[0;34m=\u001b[0m \u001b[0mBeautifulSoup\u001b[0m\u001b[0;34m(\u001b[0m\u001b[0mhtml\u001b[0m\u001b[0;34m,\u001b[0m \u001b[0;34m'lxml'\u001b[0m\u001b[0;34m)\u001b[0m\u001b[0;34m\u001b[0m\u001b[0;34m\u001b[0m\u001b[0m\n\u001b[1;32m     19\u001b[0m \u001b[0;34m\u001b[0m\u001b[0m\n",
            "\u001b[0;32m/usr/lib/python3.10/urllib/request.py\u001b[0m in \u001b[0;36murlopen\u001b[0;34m(url, data, timeout, cafile, capath, cadefault, context)\u001b[0m\n\u001b[1;32m    214\u001b[0m     \u001b[0;32melse\u001b[0m\u001b[0;34m:\u001b[0m\u001b[0;34m\u001b[0m\u001b[0;34m\u001b[0m\u001b[0m\n\u001b[1;32m    215\u001b[0m         \u001b[0mopener\u001b[0m \u001b[0;34m=\u001b[0m \u001b[0m_opener\u001b[0m\u001b[0;34m\u001b[0m\u001b[0;34m\u001b[0m\u001b[0m\n\u001b[0;32m--> 216\u001b[0;31m     \u001b[0;32mreturn\u001b[0m \u001b[0mopener\u001b[0m\u001b[0;34m.\u001b[0m\u001b[0mopen\u001b[0m\u001b[0;34m(\u001b[0m\u001b[0murl\u001b[0m\u001b[0;34m,\u001b[0m \u001b[0mdata\u001b[0m\u001b[0;34m,\u001b[0m \u001b[0mtimeout\u001b[0m\u001b[0;34m)\u001b[0m\u001b[0;34m\u001b[0m\u001b[0;34m\u001b[0m\u001b[0m\n\u001b[0m\u001b[1;32m    217\u001b[0m \u001b[0;34m\u001b[0m\u001b[0m\n\u001b[1;32m    218\u001b[0m \u001b[0;32mdef\u001b[0m \u001b[0minstall_opener\u001b[0m\u001b[0;34m(\u001b[0m\u001b[0mopener\u001b[0m\u001b[0;34m)\u001b[0m\u001b[0;34m:\u001b[0m\u001b[0;34m\u001b[0m\u001b[0;34m\u001b[0m\u001b[0m\n",
            "\u001b[0;32m/usr/lib/python3.10/urllib/request.py\u001b[0m in \u001b[0;36mopen\u001b[0;34m(self, fullurl, data, timeout)\u001b[0m\n\u001b[1;32m    517\u001b[0m \u001b[0;34m\u001b[0m\u001b[0m\n\u001b[1;32m    518\u001b[0m         \u001b[0msys\u001b[0m\u001b[0;34m.\u001b[0m\u001b[0maudit\u001b[0m\u001b[0;34m(\u001b[0m\u001b[0;34m'urllib.Request'\u001b[0m\u001b[0;34m,\u001b[0m \u001b[0mreq\u001b[0m\u001b[0;34m.\u001b[0m\u001b[0mfull_url\u001b[0m\u001b[0;34m,\u001b[0m \u001b[0mreq\u001b[0m\u001b[0;34m.\u001b[0m\u001b[0mdata\u001b[0m\u001b[0;34m,\u001b[0m \u001b[0mreq\u001b[0m\u001b[0;34m.\u001b[0m\u001b[0mheaders\u001b[0m\u001b[0;34m,\u001b[0m \u001b[0mreq\u001b[0m\u001b[0;34m.\u001b[0m\u001b[0mget_method\u001b[0m\u001b[0;34m(\u001b[0m\u001b[0;34m)\u001b[0m\u001b[0;34m)\u001b[0m\u001b[0;34m\u001b[0m\u001b[0;34m\u001b[0m\u001b[0m\n\u001b[0;32m--> 519\u001b[0;31m         \u001b[0mresponse\u001b[0m \u001b[0;34m=\u001b[0m \u001b[0mself\u001b[0m\u001b[0;34m.\u001b[0m\u001b[0m_open\u001b[0m\u001b[0;34m(\u001b[0m\u001b[0mreq\u001b[0m\u001b[0;34m,\u001b[0m \u001b[0mdata\u001b[0m\u001b[0;34m)\u001b[0m\u001b[0;34m\u001b[0m\u001b[0;34m\u001b[0m\u001b[0m\n\u001b[0m\u001b[1;32m    520\u001b[0m \u001b[0;34m\u001b[0m\u001b[0m\n\u001b[1;32m    521\u001b[0m         \u001b[0;31m# post-process response\u001b[0m\u001b[0;34m\u001b[0m\u001b[0;34m\u001b[0m\u001b[0m\n",
            "\u001b[0;32m/usr/lib/python3.10/urllib/request.py\u001b[0m in \u001b[0;36m_open\u001b[0;34m(self, req, data)\u001b[0m\n\u001b[1;32m    534\u001b[0m \u001b[0;34m\u001b[0m\u001b[0m\n\u001b[1;32m    535\u001b[0m         \u001b[0mprotocol\u001b[0m \u001b[0;34m=\u001b[0m \u001b[0mreq\u001b[0m\u001b[0;34m.\u001b[0m\u001b[0mtype\u001b[0m\u001b[0;34m\u001b[0m\u001b[0;34m\u001b[0m\u001b[0m\n\u001b[0;32m--> 536\u001b[0;31m         result = self._call_chain(self.handle_open, protocol, protocol +\n\u001b[0m\u001b[1;32m    537\u001b[0m                                   '_open', req)\n\u001b[1;32m    538\u001b[0m         \u001b[0;32mif\u001b[0m \u001b[0mresult\u001b[0m\u001b[0;34m:\u001b[0m\u001b[0;34m\u001b[0m\u001b[0;34m\u001b[0m\u001b[0m\n",
            "\u001b[0;32m/usr/lib/python3.10/urllib/request.py\u001b[0m in \u001b[0;36m_call_chain\u001b[0;34m(self, chain, kind, meth_name, *args)\u001b[0m\n\u001b[1;32m    494\u001b[0m         \u001b[0;32mfor\u001b[0m \u001b[0mhandler\u001b[0m \u001b[0;32min\u001b[0m \u001b[0mhandlers\u001b[0m\u001b[0;34m:\u001b[0m\u001b[0;34m\u001b[0m\u001b[0;34m\u001b[0m\u001b[0m\n\u001b[1;32m    495\u001b[0m             \u001b[0mfunc\u001b[0m \u001b[0;34m=\u001b[0m \u001b[0mgetattr\u001b[0m\u001b[0;34m(\u001b[0m\u001b[0mhandler\u001b[0m\u001b[0;34m,\u001b[0m \u001b[0mmeth_name\u001b[0m\u001b[0;34m)\u001b[0m\u001b[0;34m\u001b[0m\u001b[0;34m\u001b[0m\u001b[0m\n\u001b[0;32m--> 496\u001b[0;31m             \u001b[0mresult\u001b[0m \u001b[0;34m=\u001b[0m \u001b[0mfunc\u001b[0m\u001b[0;34m(\u001b[0m\u001b[0;34m*\u001b[0m\u001b[0margs\u001b[0m\u001b[0;34m)\u001b[0m\u001b[0;34m\u001b[0m\u001b[0;34m\u001b[0m\u001b[0m\n\u001b[0m\u001b[1;32m    497\u001b[0m             \u001b[0;32mif\u001b[0m \u001b[0mresult\u001b[0m \u001b[0;32mis\u001b[0m \u001b[0;32mnot\u001b[0m \u001b[0;32mNone\u001b[0m\u001b[0;34m:\u001b[0m\u001b[0;34m\u001b[0m\u001b[0;34m\u001b[0m\u001b[0m\n\u001b[1;32m    498\u001b[0m                 \u001b[0;32mreturn\u001b[0m \u001b[0mresult\u001b[0m\u001b[0;34m\u001b[0m\u001b[0;34m\u001b[0m\u001b[0m\n",
            "\u001b[0;32m/usr/lib/python3.10/urllib/request.py\u001b[0m in \u001b[0;36mhttps_open\u001b[0;34m(self, req)\u001b[0m\n\u001b[1;32m   1389\u001b[0m \u001b[0;34m\u001b[0m\u001b[0m\n\u001b[1;32m   1390\u001b[0m         \u001b[0;32mdef\u001b[0m \u001b[0mhttps_open\u001b[0m\u001b[0;34m(\u001b[0m\u001b[0mself\u001b[0m\u001b[0;34m,\u001b[0m \u001b[0mreq\u001b[0m\u001b[0;34m)\u001b[0m\u001b[0;34m:\u001b[0m\u001b[0;34m\u001b[0m\u001b[0;34m\u001b[0m\u001b[0m\n\u001b[0;32m-> 1391\u001b[0;31m             return self.do_open(http.client.HTTPSConnection, req,\n\u001b[0m\u001b[1;32m   1392\u001b[0m                 context=self._context, check_hostname=self._check_hostname)\n\u001b[1;32m   1393\u001b[0m \u001b[0;34m\u001b[0m\u001b[0m\n",
            "\u001b[0;32m/usr/lib/python3.10/urllib/request.py\u001b[0m in \u001b[0;36mdo_open\u001b[0;34m(self, http_class, req, **http_conn_args)\u001b[0m\n\u001b[1;32m   1346\u001b[0m         \u001b[0;32mtry\u001b[0m\u001b[0;34m:\u001b[0m\u001b[0;34m\u001b[0m\u001b[0;34m\u001b[0m\u001b[0m\n\u001b[1;32m   1347\u001b[0m             \u001b[0;32mtry\u001b[0m\u001b[0;34m:\u001b[0m\u001b[0;34m\u001b[0m\u001b[0;34m\u001b[0m\u001b[0m\n\u001b[0;32m-> 1348\u001b[0;31m                 h.request(req.get_method(), req.selector, req.data, headers,\n\u001b[0m\u001b[1;32m   1349\u001b[0m                           encode_chunked=req.has_header('Transfer-encoding'))\n\u001b[1;32m   1350\u001b[0m             \u001b[0;32mexcept\u001b[0m \u001b[0mOSError\u001b[0m \u001b[0;32mas\u001b[0m \u001b[0merr\u001b[0m\u001b[0;34m:\u001b[0m \u001b[0;31m# timeout error\u001b[0m\u001b[0;34m\u001b[0m\u001b[0;34m\u001b[0m\u001b[0m\n",
            "\u001b[0;32m/usr/lib/python3.10/http/client.py\u001b[0m in \u001b[0;36mrequest\u001b[0;34m(self, method, url, body, headers, encode_chunked)\u001b[0m\n\u001b[1;32m   1281\u001b[0m                 encode_chunked=False):\n\u001b[1;32m   1282\u001b[0m         \u001b[0;34m\"\"\"Send a complete request to the server.\"\"\"\u001b[0m\u001b[0;34m\u001b[0m\u001b[0;34m\u001b[0m\u001b[0m\n\u001b[0;32m-> 1283\u001b[0;31m         \u001b[0mself\u001b[0m\u001b[0;34m.\u001b[0m\u001b[0m_send_request\u001b[0m\u001b[0;34m(\u001b[0m\u001b[0mmethod\u001b[0m\u001b[0;34m,\u001b[0m \u001b[0murl\u001b[0m\u001b[0;34m,\u001b[0m \u001b[0mbody\u001b[0m\u001b[0;34m,\u001b[0m \u001b[0mheaders\u001b[0m\u001b[0;34m,\u001b[0m \u001b[0mencode_chunked\u001b[0m\u001b[0;34m)\u001b[0m\u001b[0;34m\u001b[0m\u001b[0;34m\u001b[0m\u001b[0m\n\u001b[0m\u001b[1;32m   1284\u001b[0m \u001b[0;34m\u001b[0m\u001b[0m\n\u001b[1;32m   1285\u001b[0m     \u001b[0;32mdef\u001b[0m \u001b[0m_send_request\u001b[0m\u001b[0;34m(\u001b[0m\u001b[0mself\u001b[0m\u001b[0;34m,\u001b[0m \u001b[0mmethod\u001b[0m\u001b[0;34m,\u001b[0m \u001b[0murl\u001b[0m\u001b[0;34m,\u001b[0m \u001b[0mbody\u001b[0m\u001b[0;34m,\u001b[0m \u001b[0mheaders\u001b[0m\u001b[0;34m,\u001b[0m \u001b[0mencode_chunked\u001b[0m\u001b[0;34m)\u001b[0m\u001b[0;34m:\u001b[0m\u001b[0;34m\u001b[0m\u001b[0;34m\u001b[0m\u001b[0m\n",
            "\u001b[0;32m/usr/lib/python3.10/http/client.py\u001b[0m in \u001b[0;36m_send_request\u001b[0;34m(self, method, url, body, headers, encode_chunked)\u001b[0m\n\u001b[1;32m   1327\u001b[0m             \u001b[0;31m# default charset of iso-8859-1.\u001b[0m\u001b[0;34m\u001b[0m\u001b[0;34m\u001b[0m\u001b[0m\n\u001b[1;32m   1328\u001b[0m             \u001b[0mbody\u001b[0m \u001b[0;34m=\u001b[0m \u001b[0m_encode\u001b[0m\u001b[0;34m(\u001b[0m\u001b[0mbody\u001b[0m\u001b[0;34m,\u001b[0m \u001b[0;34m'body'\u001b[0m\u001b[0;34m)\u001b[0m\u001b[0;34m\u001b[0m\u001b[0;34m\u001b[0m\u001b[0m\n\u001b[0;32m-> 1329\u001b[0;31m         \u001b[0mself\u001b[0m\u001b[0;34m.\u001b[0m\u001b[0mendheaders\u001b[0m\u001b[0;34m(\u001b[0m\u001b[0mbody\u001b[0m\u001b[0;34m,\u001b[0m \u001b[0mencode_chunked\u001b[0m\u001b[0;34m=\u001b[0m\u001b[0mencode_chunked\u001b[0m\u001b[0;34m)\u001b[0m\u001b[0;34m\u001b[0m\u001b[0;34m\u001b[0m\u001b[0m\n\u001b[0m\u001b[1;32m   1330\u001b[0m \u001b[0;34m\u001b[0m\u001b[0m\n\u001b[1;32m   1331\u001b[0m     \u001b[0;32mdef\u001b[0m \u001b[0mgetresponse\u001b[0m\u001b[0;34m(\u001b[0m\u001b[0mself\u001b[0m\u001b[0;34m)\u001b[0m\u001b[0;34m:\u001b[0m\u001b[0;34m\u001b[0m\u001b[0;34m\u001b[0m\u001b[0m\n",
            "\u001b[0;32m/usr/lib/python3.10/http/client.py\u001b[0m in \u001b[0;36mendheaders\u001b[0;34m(self, message_body, encode_chunked)\u001b[0m\n\u001b[1;32m   1276\u001b[0m         \u001b[0;32melse\u001b[0m\u001b[0;34m:\u001b[0m\u001b[0;34m\u001b[0m\u001b[0;34m\u001b[0m\u001b[0m\n\u001b[1;32m   1277\u001b[0m             \u001b[0;32mraise\u001b[0m \u001b[0mCannotSendHeader\u001b[0m\u001b[0;34m(\u001b[0m\u001b[0;34m)\u001b[0m\u001b[0;34m\u001b[0m\u001b[0;34m\u001b[0m\u001b[0m\n\u001b[0;32m-> 1278\u001b[0;31m         \u001b[0mself\u001b[0m\u001b[0;34m.\u001b[0m\u001b[0m_send_output\u001b[0m\u001b[0;34m(\u001b[0m\u001b[0mmessage_body\u001b[0m\u001b[0;34m,\u001b[0m \u001b[0mencode_chunked\u001b[0m\u001b[0;34m=\u001b[0m\u001b[0mencode_chunked\u001b[0m\u001b[0;34m)\u001b[0m\u001b[0;34m\u001b[0m\u001b[0;34m\u001b[0m\u001b[0m\n\u001b[0m\u001b[1;32m   1279\u001b[0m \u001b[0;34m\u001b[0m\u001b[0m\n\u001b[1;32m   1280\u001b[0m     def request(self, method, url, body=None, headers={}, *,\n",
            "\u001b[0;32m/usr/lib/python3.10/http/client.py\u001b[0m in \u001b[0;36m_send_output\u001b[0;34m(self, message_body, encode_chunked)\u001b[0m\n\u001b[1;32m   1036\u001b[0m         \u001b[0mmsg\u001b[0m \u001b[0;34m=\u001b[0m \u001b[0;34mb\"\\r\\n\"\u001b[0m\u001b[0;34m.\u001b[0m\u001b[0mjoin\u001b[0m\u001b[0;34m(\u001b[0m\u001b[0mself\u001b[0m\u001b[0;34m.\u001b[0m\u001b[0m_buffer\u001b[0m\u001b[0;34m)\u001b[0m\u001b[0;34m\u001b[0m\u001b[0;34m\u001b[0m\u001b[0m\n\u001b[1;32m   1037\u001b[0m         \u001b[0;32mdel\u001b[0m \u001b[0mself\u001b[0m\u001b[0;34m.\u001b[0m\u001b[0m_buffer\u001b[0m\u001b[0;34m[\u001b[0m\u001b[0;34m:\u001b[0m\u001b[0;34m]\u001b[0m\u001b[0;34m\u001b[0m\u001b[0;34m\u001b[0m\u001b[0m\n\u001b[0;32m-> 1038\u001b[0;31m         \u001b[0mself\u001b[0m\u001b[0;34m.\u001b[0m\u001b[0msend\u001b[0m\u001b[0;34m(\u001b[0m\u001b[0mmsg\u001b[0m\u001b[0;34m)\u001b[0m\u001b[0;34m\u001b[0m\u001b[0;34m\u001b[0m\u001b[0m\n\u001b[0m\u001b[1;32m   1039\u001b[0m \u001b[0;34m\u001b[0m\u001b[0m\n\u001b[1;32m   1040\u001b[0m         \u001b[0;32mif\u001b[0m \u001b[0mmessage_body\u001b[0m \u001b[0;32mis\u001b[0m \u001b[0;32mnot\u001b[0m \u001b[0;32mNone\u001b[0m\u001b[0;34m:\u001b[0m\u001b[0;34m\u001b[0m\u001b[0;34m\u001b[0m\u001b[0m\n",
            "\u001b[0;32m/usr/lib/python3.10/http/client.py\u001b[0m in \u001b[0;36msend\u001b[0;34m(self, data)\u001b[0m\n\u001b[1;32m    974\u001b[0m         \u001b[0;32mif\u001b[0m \u001b[0mself\u001b[0m\u001b[0;34m.\u001b[0m\u001b[0msock\u001b[0m \u001b[0;32mis\u001b[0m \u001b[0;32mNone\u001b[0m\u001b[0;34m:\u001b[0m\u001b[0;34m\u001b[0m\u001b[0;34m\u001b[0m\u001b[0m\n\u001b[1;32m    975\u001b[0m             \u001b[0;32mif\u001b[0m \u001b[0mself\u001b[0m\u001b[0;34m.\u001b[0m\u001b[0mauto_open\u001b[0m\u001b[0;34m:\u001b[0m\u001b[0;34m\u001b[0m\u001b[0;34m\u001b[0m\u001b[0m\n\u001b[0;32m--> 976\u001b[0;31m                 \u001b[0mself\u001b[0m\u001b[0;34m.\u001b[0m\u001b[0mconnect\u001b[0m\u001b[0;34m(\u001b[0m\u001b[0;34m)\u001b[0m\u001b[0;34m\u001b[0m\u001b[0;34m\u001b[0m\u001b[0m\n\u001b[0m\u001b[1;32m    977\u001b[0m             \u001b[0;32melse\u001b[0m\u001b[0;34m:\u001b[0m\u001b[0;34m\u001b[0m\u001b[0;34m\u001b[0m\u001b[0m\n\u001b[1;32m    978\u001b[0m                 \u001b[0;32mraise\u001b[0m \u001b[0mNotConnected\u001b[0m\u001b[0;34m(\u001b[0m\u001b[0;34m)\u001b[0m\u001b[0;34m\u001b[0m\u001b[0;34m\u001b[0m\u001b[0m\n",
            "\u001b[0;32m/usr/lib/python3.10/http/client.py\u001b[0m in \u001b[0;36mconnect\u001b[0;34m(self)\u001b[0m\n\u001b[1;32m   1446\u001b[0m             \u001b[0;34m\"Connect to a host on a given (SSL) port.\"\u001b[0m\u001b[0;34m\u001b[0m\u001b[0;34m\u001b[0m\u001b[0m\n\u001b[1;32m   1447\u001b[0m \u001b[0;34m\u001b[0m\u001b[0m\n\u001b[0;32m-> 1448\u001b[0;31m             \u001b[0msuper\u001b[0m\u001b[0;34m(\u001b[0m\u001b[0;34m)\u001b[0m\u001b[0;34m.\u001b[0m\u001b[0mconnect\u001b[0m\u001b[0;34m(\u001b[0m\u001b[0;34m)\u001b[0m\u001b[0;34m\u001b[0m\u001b[0;34m\u001b[0m\u001b[0m\n\u001b[0m\u001b[1;32m   1449\u001b[0m \u001b[0;34m\u001b[0m\u001b[0m\n\u001b[1;32m   1450\u001b[0m             \u001b[0;32mif\u001b[0m \u001b[0mself\u001b[0m\u001b[0;34m.\u001b[0m\u001b[0m_tunnel_host\u001b[0m\u001b[0;34m:\u001b[0m\u001b[0;34m\u001b[0m\u001b[0;34m\u001b[0m\u001b[0m\n",
            "\u001b[0;32m/usr/lib/python3.10/http/client.py\u001b[0m in \u001b[0;36mconnect\u001b[0;34m(self)\u001b[0m\n\u001b[1;32m    940\u001b[0m         \u001b[0;34m\"\"\"Connect to the host and port specified in __init__.\"\"\"\u001b[0m\u001b[0;34m\u001b[0m\u001b[0;34m\u001b[0m\u001b[0m\n\u001b[1;32m    941\u001b[0m         \u001b[0msys\u001b[0m\u001b[0;34m.\u001b[0m\u001b[0maudit\u001b[0m\u001b[0;34m(\u001b[0m\u001b[0;34m\"http.client.connect\"\u001b[0m\u001b[0;34m,\u001b[0m \u001b[0mself\u001b[0m\u001b[0;34m,\u001b[0m \u001b[0mself\u001b[0m\u001b[0;34m.\u001b[0m\u001b[0mhost\u001b[0m\u001b[0;34m,\u001b[0m \u001b[0mself\u001b[0m\u001b[0;34m.\u001b[0m\u001b[0mport\u001b[0m\u001b[0;34m)\u001b[0m\u001b[0;34m\u001b[0m\u001b[0;34m\u001b[0m\u001b[0m\n\u001b[0;32m--> 942\u001b[0;31m         self.sock = self._create_connection(\n\u001b[0m\u001b[1;32m    943\u001b[0m             (self.host,self.port), self.timeout, self.source_address)\n\u001b[1;32m    944\u001b[0m         \u001b[0;31m# Might fail in OSs that don't implement TCP_NODELAY\u001b[0m\u001b[0;34m\u001b[0m\u001b[0;34m\u001b[0m\u001b[0m\n",
            "\u001b[0;32m/usr/lib/python3.10/socket.py\u001b[0m in \u001b[0;36mcreate_connection\u001b[0;34m(address, timeout, source_address)\u001b[0m\n\u001b[1;32m    831\u001b[0m             \u001b[0;32mif\u001b[0m \u001b[0msource_address\u001b[0m\u001b[0;34m:\u001b[0m\u001b[0;34m\u001b[0m\u001b[0;34m\u001b[0m\u001b[0m\n\u001b[1;32m    832\u001b[0m                 \u001b[0msock\u001b[0m\u001b[0;34m.\u001b[0m\u001b[0mbind\u001b[0m\u001b[0;34m(\u001b[0m\u001b[0msource_address\u001b[0m\u001b[0;34m)\u001b[0m\u001b[0;34m\u001b[0m\u001b[0;34m\u001b[0m\u001b[0m\n\u001b[0;32m--> 833\u001b[0;31m             \u001b[0msock\u001b[0m\u001b[0;34m.\u001b[0m\u001b[0mconnect\u001b[0m\u001b[0;34m(\u001b[0m\u001b[0msa\u001b[0m\u001b[0;34m)\u001b[0m\u001b[0;34m\u001b[0m\u001b[0;34m\u001b[0m\u001b[0m\n\u001b[0m\u001b[1;32m    834\u001b[0m             \u001b[0;31m# Break explicitly a reference cycle\u001b[0m\u001b[0;34m\u001b[0m\u001b[0;34m\u001b[0m\u001b[0m\n\u001b[1;32m    835\u001b[0m             \u001b[0merr\u001b[0m \u001b[0;34m=\u001b[0m \u001b[0;32mNone\u001b[0m\u001b[0;34m\u001b[0m\u001b[0;34m\u001b[0m\u001b[0m\n",
            "\u001b[0;31mKeyboardInterrupt\u001b[0m: "
          ]
        }
      ]
    },
    {
      "cell_type": "markdown",
      "source": [
        "## Scraper script for large scale scraping\n",
        "\n",
        "It turns out 6 stations out of 4760 stations have incompatible format. Discard those 6 stations."
      ],
      "metadata": {
        "id": "IqFgWrL4Ba4K"
      }
    },
    {
      "cell_type": "code",
      "source": [
        "# process each station's data\n",
        "\n",
        "station_ID = 1\n",
        "\n",
        "for station_link in all_stations_links:\n",
        "\n",
        "  # if station_ID >= 806:\n",
        "    # go to the page of the station\n",
        "    station_link = station_link['href']\n",
        "    #station_link.replace(\"amp\", \"\")\n",
        "    url = station_link\n",
        "    html = urlopen(url)\n",
        "    station_link_soup = BeautifulSoup(html, 'lxml')\n",
        "\n",
        "    # get the monthly rainfall data\n",
        "    data_links = station_link_soup.find_all(\"a\", text='raw data')\n",
        "    first_raw_data_link = \"https://climexp.knmi.nl/\" + data_links[0][\"href\"]\n",
        "    url = first_raw_data_link\n",
        "    html = urlopen(url)\n",
        "    first_raw_data_soup = BeautifulSoup(html, 'lxml')\n",
        "\n",
        "    # get the mean montly rainfall data\n",
        "    second_raw_data_link = \"https://climexp.knmi.nl/\" + data_links[1][\"href\"]\n",
        "    url = second_raw_data_link\n",
        "    html = urlopen(url)\n",
        "    second_raw_data_soup = BeautifulSoup(html, 'lxml')\n",
        "\n",
        "    # process the monthly rainfall data\n",
        "    first_raw_data_content = first_raw_data_soup.find(\"p\")\n",
        "    first_raw_data_content = str(first_raw_data_content)\n",
        "    first_raw_data_content = first_raw_data_content.split(\"\\n\")\n",
        "\n",
        "    # get the location name\n",
        "    location_name = first_raw_data_content[1]\n",
        "    location_name = location_name.replace(\"#\", \"\").replace(\"%\", \"\").replace(\",\", \" \")\n",
        "    replace_slash = [\"/ \", \" /\", \" / \"]\n",
        "    for slash in replace_slash:\n",
        "        if slash in location_name:\n",
        "            location_name = location_name.replace(slash, \"/\")\n",
        "    location_name = ' '.join(location_name.split())\n",
        "\n",
        "    # get the coordinates\n",
        "    coordinates = [i for i in first_raw_data_content if \"coordinates\" in i][0]\n",
        "    coordinates = coordinates.replace(\",\", \"\").replace(\"#\", \"\")\n",
        "    coordinates = coordinates.split()\n",
        "    latitude = coordinates[1]\n",
        "    longtitude = coordinates[2]\n",
        "\n",
        "    # get the montly rainfall data from start year to end year\n",
        "    data = []\n",
        "    for year in range(START_YEAR, END_YEAR + 1):\n",
        "        year = str(year)\n",
        "        row = [i for i in first_raw_data_content if year in i and \"#\" not in i]\n",
        "        if len(row) == 0:\n",
        "            pass\n",
        "        else:\n",
        "            row = row[0]\n",
        "            if row[0] == \" \":\n",
        "                row = row[1:]\n",
        "            row = row.split()\n",
        "            if len(row) != 13:\n",
        "                print(row)\n",
        "                raise Exception(location_name + \" at year \" + year + \" has missing data.\")\n",
        "            data.append(row)\n",
        "\n",
        "    # format the monthly rainfall data and add the year and month\n",
        "    year_and_rainfall = []\n",
        "    for datapoint in data:\n",
        "        year = datapoint[0]\n",
        "        for i in range(1,13):\n",
        "            if i > 9:\n",
        "                month = str(i)\n",
        "            else:\n",
        "                month = '0' + str(i)\n",
        "\n",
        "            date = year + \"-\" + month + \"-01\"\n",
        "            rainfall = float(datapoint[i])\n",
        "            year_and_rainfall.append([date, rainfall])\n",
        "\n",
        "    # process the mean monthly rainfall data\n",
        "    second_raw_data_content = second_raw_data_soup.find(\"p\")\n",
        "    second_raw_data_content = str(second_raw_data_content)\n",
        "    second_raw_data_content = second_raw_data_content.split(\"\\n\")\n",
        "\n",
        "    mean_rainfalls = []\n",
        "    for i in range(1,13):\n",
        "        if i > 9:\n",
        "            month = str(i)\n",
        "        else:\n",
        "            month = \"0\" + str(i)\n",
        "        month = \"2000\" + month + \"01\"\n",
        "\n",
        "        try:\n",
        "            monthly_data = [i for i in second_raw_data_content if month in i][0].split()\n",
        "            mean_rainfall = monthly_data[1]\n",
        "            mean_rainfalls.append(mean_rainfall)\n",
        "        except:\n",
        "            print(location_name, month)\n",
        "            mean_rainfalls.append(-999.9)\n",
        "\n",
        "    # combine the monthly rainfall data and mean montly rainfall data, calculate the anomaly\n",
        "    for i in range(len(year_and_rainfall)):\n",
        "        month = (i+1) % 12\n",
        "        mean_rainfall = float(mean_rainfalls[month-1])\n",
        "        year_and_rainfall[i].append(mean_rainfall)\n",
        "        # anomaly = round(year_and_rainfall[i][1] / year_and_rainfall[i][2] * 100 , 2)\n",
        "        anomaly = 0\n",
        "        year_and_rainfall[i].append(anomaly)\n",
        "\n",
        "    # store the content into files\n",
        "    file_name = str(station_ID) + \"_\" + location_name.split()[0].lower().replace(\"/\", \"-\") + \".csv\"\n",
        "    file_path = individual_station_data_path + \"/\" + file_name\n",
        "\n",
        "    f = open(file_path, \"w\")\n",
        "    f.write(\"ID,Location Name,Latitude,Longitude,Date,Rainfall (mm),Avg Rainfall (mm),Rainfall (% anomaly)\\n\")\n",
        "\n",
        "    ID = 1\n",
        "    for data in year_and_rainfall:\n",
        "        new_row = str(ID) + \",\" + location_name + \",\" + latitude + \",\" + longtitude + \\\n",
        "                  \",\" + data[0] + \",\" + str(data[1]) + \",\" + str(data[2]) + \",\" + str(data[3]) + \"\\n\"\n",
        "        f.write(new_row)\n",
        "        ID +=1\n",
        "\n",
        "        new_row_all = str(ID_all) + \",\" + location_name + \",\" + latitude + \",\" + longtitude + \\\n",
        "                  \",\" + data[0] + \",\" + str(data[1]) + \",\" + str(data[2]) + \",\" + str(data[3]) + \"\\n\"\n",
        "        all_data_file.write(new_row_all)\n",
        "        ID_all +=1\n",
        "\n",
        "    f.close()\n",
        "    station_ID += 1"
      ],
      "metadata": {
        "colab": {
          "base_uri": "https://localhost:8080/"
        },
        "outputId": "ddd46a04-8d60-40e9-aa1d-2cd7eeef456a",
        "id": "5AuEXWhZEQKy"
      },
      "execution_count": null,
      "outputs": [
        {
          "output_type": "stream",
          "name": "stderr",
          "text": [
            "<ipython-input-5-579bb113cb09>:16: DeprecationWarning: The 'text' argument to find()-type methods is deprecated. Use 'string' instead.\n",
            "  data_links = station_link_soup.find_all(\"a\", text='raw data')\n"
          ]
        },
        {
          "output_type": "stream",
          "name": "stdout",
          "text": [
            "TARANAGAR RENI<rajastha ::=\"\" american=\"\" an=\"\" and=\"\" cest=\"\" climatology=\"\" climexp_url=\"\" code:=\"\" contact_email=\"\" coordinates:=\"\" database.bulletin=\"\" degrees_east=\"\" degrees_north=\"\" elevation=\"\" fri=\"\" from=\"\" global=\"\" historical=\"\" http:=\"\" https:=\"\" india=\"\" institution=\"\" jul=\"\" latitude=\"\" longitude=\"\" m=\"\" meteorological=\"\" ncdc.ghcnm=\"\" near=\"\" network=\"\" noaa=\"\" of=\"\" overview=\"\" peterson=\"\" prcp=\"\" r.s.=\"\" references=\"\" retrieved=\"\" scripturl01=\"\" society=\"\" source_url=\"\" station=\"\" station_code=\"\" station_country=\"\" station_name=\"\" t.c.=\"\" taranagar_=\"\" temperature=\"\" the=\"\" v2.prcp=\"\" vose=\"\" wmo=\"\"></rajastha></p> 20000101\n",
            "TARANAGAR RENI<rajastha ::=\"\" american=\"\" an=\"\" and=\"\" cest=\"\" climatology=\"\" climexp_url=\"\" code:=\"\" contact_email=\"\" coordinates:=\"\" database.bulletin=\"\" degrees_east=\"\" degrees_north=\"\" elevation=\"\" fri=\"\" from=\"\" global=\"\" historical=\"\" http:=\"\" https:=\"\" india=\"\" institution=\"\" jul=\"\" latitude=\"\" longitude=\"\" m=\"\" meteorological=\"\" ncdc.ghcnm=\"\" near=\"\" network=\"\" noaa=\"\" of=\"\" overview=\"\" peterson=\"\" prcp=\"\" r.s.=\"\" references=\"\" retrieved=\"\" scripturl01=\"\" society=\"\" source_url=\"\" station=\"\" station_code=\"\" station_country=\"\" station_name=\"\" t.c.=\"\" taranagar_=\"\" temperature=\"\" the=\"\" v2.prcp=\"\" vose=\"\" wmo=\"\"></rajastha></p> 20000201\n",
            "TARANAGAR RENI<rajastha ::=\"\" american=\"\" an=\"\" and=\"\" cest=\"\" climatology=\"\" climexp_url=\"\" code:=\"\" contact_email=\"\" coordinates:=\"\" database.bulletin=\"\" degrees_east=\"\" degrees_north=\"\" elevation=\"\" fri=\"\" from=\"\" global=\"\" historical=\"\" http:=\"\" https:=\"\" india=\"\" institution=\"\" jul=\"\" latitude=\"\" longitude=\"\" m=\"\" meteorological=\"\" ncdc.ghcnm=\"\" near=\"\" network=\"\" noaa=\"\" of=\"\" overview=\"\" peterson=\"\" prcp=\"\" r.s.=\"\" references=\"\" retrieved=\"\" scripturl01=\"\" society=\"\" source_url=\"\" station=\"\" station_code=\"\" station_country=\"\" station_name=\"\" t.c.=\"\" taranagar_=\"\" temperature=\"\" the=\"\" v2.prcp=\"\" vose=\"\" wmo=\"\"></rajastha></p> 20000301\n",
            "TARANAGAR RENI<rajastha ::=\"\" american=\"\" an=\"\" and=\"\" cest=\"\" climatology=\"\" climexp_url=\"\" code:=\"\" contact_email=\"\" coordinates:=\"\" database.bulletin=\"\" degrees_east=\"\" degrees_north=\"\" elevation=\"\" fri=\"\" from=\"\" global=\"\" historical=\"\" http:=\"\" https:=\"\" india=\"\" institution=\"\" jul=\"\" latitude=\"\" longitude=\"\" m=\"\" meteorological=\"\" ncdc.ghcnm=\"\" near=\"\" network=\"\" noaa=\"\" of=\"\" overview=\"\" peterson=\"\" prcp=\"\" r.s.=\"\" references=\"\" retrieved=\"\" scripturl01=\"\" society=\"\" source_url=\"\" station=\"\" station_code=\"\" station_country=\"\" station_name=\"\" t.c.=\"\" taranagar_=\"\" temperature=\"\" the=\"\" v2.prcp=\"\" vose=\"\" wmo=\"\"></rajastha></p> 20000401\n",
            "TARANAGAR RENI<rajastha ::=\"\" american=\"\" an=\"\" and=\"\" cest=\"\" climatology=\"\" climexp_url=\"\" code:=\"\" contact_email=\"\" coordinates:=\"\" database.bulletin=\"\" degrees_east=\"\" degrees_north=\"\" elevation=\"\" fri=\"\" from=\"\" global=\"\" historical=\"\" http:=\"\" https:=\"\" india=\"\" institution=\"\" jul=\"\" latitude=\"\" longitude=\"\" m=\"\" meteorological=\"\" ncdc.ghcnm=\"\" near=\"\" network=\"\" noaa=\"\" of=\"\" overview=\"\" peterson=\"\" prcp=\"\" r.s.=\"\" references=\"\" retrieved=\"\" scripturl01=\"\" society=\"\" source_url=\"\" station=\"\" station_code=\"\" station_country=\"\" station_name=\"\" t.c.=\"\" taranagar_=\"\" temperature=\"\" the=\"\" v2.prcp=\"\" vose=\"\" wmo=\"\"></rajastha></p> 20000501\n",
            "TARANAGAR RENI<rajastha ::=\"\" american=\"\" an=\"\" and=\"\" cest=\"\" climatology=\"\" climexp_url=\"\" code:=\"\" contact_email=\"\" coordinates:=\"\" database.bulletin=\"\" degrees_east=\"\" degrees_north=\"\" elevation=\"\" fri=\"\" from=\"\" global=\"\" historical=\"\" http:=\"\" https:=\"\" india=\"\" institution=\"\" jul=\"\" latitude=\"\" longitude=\"\" m=\"\" meteorological=\"\" ncdc.ghcnm=\"\" near=\"\" network=\"\" noaa=\"\" of=\"\" overview=\"\" peterson=\"\" prcp=\"\" r.s.=\"\" references=\"\" retrieved=\"\" scripturl01=\"\" society=\"\" source_url=\"\" station=\"\" station_code=\"\" station_country=\"\" station_name=\"\" t.c.=\"\" taranagar_=\"\" temperature=\"\" the=\"\" v2.prcp=\"\" vose=\"\" wmo=\"\"></rajastha></p> 20000601\n",
            "TARANAGAR RENI<rajastha ::=\"\" american=\"\" an=\"\" and=\"\" cest=\"\" climatology=\"\" climexp_url=\"\" code:=\"\" contact_email=\"\" coordinates:=\"\" database.bulletin=\"\" degrees_east=\"\" degrees_north=\"\" elevation=\"\" fri=\"\" from=\"\" global=\"\" historical=\"\" http:=\"\" https:=\"\" india=\"\" institution=\"\" jul=\"\" latitude=\"\" longitude=\"\" m=\"\" meteorological=\"\" ncdc.ghcnm=\"\" near=\"\" network=\"\" noaa=\"\" of=\"\" overview=\"\" peterson=\"\" prcp=\"\" r.s.=\"\" references=\"\" retrieved=\"\" scripturl01=\"\" society=\"\" source_url=\"\" station=\"\" station_code=\"\" station_country=\"\" station_name=\"\" t.c.=\"\" taranagar_=\"\" temperature=\"\" the=\"\" v2.prcp=\"\" vose=\"\" wmo=\"\"></rajastha></p> 20000701\n",
            "TARANAGAR RENI<rajastha ::=\"\" american=\"\" an=\"\" and=\"\" cest=\"\" climatology=\"\" climexp_url=\"\" code:=\"\" contact_email=\"\" coordinates:=\"\" database.bulletin=\"\" degrees_east=\"\" degrees_north=\"\" elevation=\"\" fri=\"\" from=\"\" global=\"\" historical=\"\" http:=\"\" https:=\"\" india=\"\" institution=\"\" jul=\"\" latitude=\"\" longitude=\"\" m=\"\" meteorological=\"\" ncdc.ghcnm=\"\" near=\"\" network=\"\" noaa=\"\" of=\"\" overview=\"\" peterson=\"\" prcp=\"\" r.s.=\"\" references=\"\" retrieved=\"\" scripturl01=\"\" society=\"\" source_url=\"\" station=\"\" station_code=\"\" station_country=\"\" station_name=\"\" t.c.=\"\" taranagar_=\"\" temperature=\"\" the=\"\" v2.prcp=\"\" vose=\"\" wmo=\"\"></rajastha></p> 20000801\n",
            "TARANAGAR RENI<rajastha ::=\"\" american=\"\" an=\"\" and=\"\" cest=\"\" climatology=\"\" climexp_url=\"\" code:=\"\" contact_email=\"\" coordinates:=\"\" database.bulletin=\"\" degrees_east=\"\" degrees_north=\"\" elevation=\"\" fri=\"\" from=\"\" global=\"\" historical=\"\" http:=\"\" https:=\"\" india=\"\" institution=\"\" jul=\"\" latitude=\"\" longitude=\"\" m=\"\" meteorological=\"\" ncdc.ghcnm=\"\" near=\"\" network=\"\" noaa=\"\" of=\"\" overview=\"\" peterson=\"\" prcp=\"\" r.s.=\"\" references=\"\" retrieved=\"\" scripturl01=\"\" society=\"\" source_url=\"\" station=\"\" station_code=\"\" station_country=\"\" station_name=\"\" t.c.=\"\" taranagar_=\"\" temperature=\"\" the=\"\" v2.prcp=\"\" vose=\"\" wmo=\"\"></rajastha></p> 20000901\n",
            "TARANAGAR RENI<rajastha ::=\"\" american=\"\" an=\"\" and=\"\" cest=\"\" climatology=\"\" climexp_url=\"\" code:=\"\" contact_email=\"\" coordinates:=\"\" database.bulletin=\"\" degrees_east=\"\" degrees_north=\"\" elevation=\"\" fri=\"\" from=\"\" global=\"\" historical=\"\" http:=\"\" https:=\"\" india=\"\" institution=\"\" jul=\"\" latitude=\"\" longitude=\"\" m=\"\" meteorological=\"\" ncdc.ghcnm=\"\" near=\"\" network=\"\" noaa=\"\" of=\"\" overview=\"\" peterson=\"\" prcp=\"\" r.s.=\"\" references=\"\" retrieved=\"\" scripturl01=\"\" society=\"\" source_url=\"\" station=\"\" station_code=\"\" station_country=\"\" station_name=\"\" t.c.=\"\" taranagar_=\"\" temperature=\"\" the=\"\" v2.prcp=\"\" vose=\"\" wmo=\"\"></rajastha></p> 20001001\n",
            "TARANAGAR RENI<rajastha ::=\"\" american=\"\" an=\"\" and=\"\" cest=\"\" climatology=\"\" climexp_url=\"\" code:=\"\" contact_email=\"\" coordinates:=\"\" database.bulletin=\"\" degrees_east=\"\" degrees_north=\"\" elevation=\"\" fri=\"\" from=\"\" global=\"\" historical=\"\" http:=\"\" https:=\"\" india=\"\" institution=\"\" jul=\"\" latitude=\"\" longitude=\"\" m=\"\" meteorological=\"\" ncdc.ghcnm=\"\" near=\"\" network=\"\" noaa=\"\" of=\"\" overview=\"\" peterson=\"\" prcp=\"\" r.s.=\"\" references=\"\" retrieved=\"\" scripturl01=\"\" society=\"\" source_url=\"\" station=\"\" station_code=\"\" station_country=\"\" station_name=\"\" t.c.=\"\" taranagar_=\"\" temperature=\"\" the=\"\" v2.prcp=\"\" vose=\"\" wmo=\"\"></rajastha></p> 20001101\n",
            "TARANAGAR RENI<rajastha ::=\"\" american=\"\" an=\"\" and=\"\" cest=\"\" climatology=\"\" climexp_url=\"\" code:=\"\" contact_email=\"\" coordinates:=\"\" database.bulletin=\"\" degrees_east=\"\" degrees_north=\"\" elevation=\"\" fri=\"\" from=\"\" global=\"\" historical=\"\" http:=\"\" https:=\"\" india=\"\" institution=\"\" jul=\"\" latitude=\"\" longitude=\"\" m=\"\" meteorological=\"\" ncdc.ghcnm=\"\" near=\"\" network=\"\" noaa=\"\" of=\"\" overview=\"\" peterson=\"\" prcp=\"\" r.s.=\"\" references=\"\" retrieved=\"\" scripturl01=\"\" society=\"\" source_url=\"\" station=\"\" station_code=\"\" station_country=\"\" station_name=\"\" t.c.=\"\" taranagar_=\"\" temperature=\"\" the=\"\" v2.prcp=\"\" vose=\"\" wmo=\"\"></rajastha></p> 20001201\n",
            "AMCHONGSONEPUR<assam ::=\"\" amchong=\"\" american=\"\" an=\"\" and=\"\" cest=\"\" climatology=\"\" climexp_url=\"\" code:=\"\" contact_email=\"\" coordinates:=\"\" database.bulletin=\"\" degrees_east=\"\" degrees_north=\"\" elevation=\"\" fri=\"\" from=\"\" global=\"\" historical=\"\" http:=\"\" https:=\"\" india=\"\" institution=\"\" jul=\"\" latitude=\"\" longitude=\"\" m=\"\" meteorological=\"\" ncdc.ghcnm=\"\" near=\"\" network=\"\" noaa=\"\" of=\"\" overview=\"\" peterson=\"\" prcp=\"\" r.s.=\"\" references=\"\" retrieved=\"\" scripturl01=\"\" society=\"\" source_url=\"\" station=\"\" station_code=\"\" station_country=\"\" station_name=\"\" t.c.=\"\" temperature=\"\" the=\"\" v2.prcp=\"\" vose=\"\" wmo=\"\"></assam></p> 20000101\n",
            "AMCHONGSONEPUR<assam ::=\"\" amchong=\"\" american=\"\" an=\"\" and=\"\" cest=\"\" climatology=\"\" climexp_url=\"\" code:=\"\" contact_email=\"\" coordinates:=\"\" database.bulletin=\"\" degrees_east=\"\" degrees_north=\"\" elevation=\"\" fri=\"\" from=\"\" global=\"\" historical=\"\" http:=\"\" https:=\"\" india=\"\" institution=\"\" jul=\"\" latitude=\"\" longitude=\"\" m=\"\" meteorological=\"\" ncdc.ghcnm=\"\" near=\"\" network=\"\" noaa=\"\" of=\"\" overview=\"\" peterson=\"\" prcp=\"\" r.s.=\"\" references=\"\" retrieved=\"\" scripturl01=\"\" society=\"\" source_url=\"\" station=\"\" station_code=\"\" station_country=\"\" station_name=\"\" t.c.=\"\" temperature=\"\" the=\"\" v2.prcp=\"\" vose=\"\" wmo=\"\"></assam></p> 20000201\n",
            "AMCHONGSONEPUR<assam ::=\"\" amchong=\"\" american=\"\" an=\"\" and=\"\" cest=\"\" climatology=\"\" climexp_url=\"\" code:=\"\" contact_email=\"\" coordinates:=\"\" database.bulletin=\"\" degrees_east=\"\" degrees_north=\"\" elevation=\"\" fri=\"\" from=\"\" global=\"\" historical=\"\" http:=\"\" https:=\"\" india=\"\" institution=\"\" jul=\"\" latitude=\"\" longitude=\"\" m=\"\" meteorological=\"\" ncdc.ghcnm=\"\" near=\"\" network=\"\" noaa=\"\" of=\"\" overview=\"\" peterson=\"\" prcp=\"\" r.s.=\"\" references=\"\" retrieved=\"\" scripturl01=\"\" society=\"\" source_url=\"\" station=\"\" station_code=\"\" station_country=\"\" station_name=\"\" t.c.=\"\" temperature=\"\" the=\"\" v2.prcp=\"\" vose=\"\" wmo=\"\"></assam></p> 20000301\n",
            "AMCHONGSONEPUR<assam ::=\"\" amchong=\"\" american=\"\" an=\"\" and=\"\" cest=\"\" climatology=\"\" climexp_url=\"\" code:=\"\" contact_email=\"\" coordinates:=\"\" database.bulletin=\"\" degrees_east=\"\" degrees_north=\"\" elevation=\"\" fri=\"\" from=\"\" global=\"\" historical=\"\" http:=\"\" https:=\"\" india=\"\" institution=\"\" jul=\"\" latitude=\"\" longitude=\"\" m=\"\" meteorological=\"\" ncdc.ghcnm=\"\" near=\"\" network=\"\" noaa=\"\" of=\"\" overview=\"\" peterson=\"\" prcp=\"\" r.s.=\"\" references=\"\" retrieved=\"\" scripturl01=\"\" society=\"\" source_url=\"\" station=\"\" station_code=\"\" station_country=\"\" station_name=\"\" t.c.=\"\" temperature=\"\" the=\"\" v2.prcp=\"\" vose=\"\" wmo=\"\"></assam></p> 20000401\n",
            "AMCHONGSONEPUR<assam ::=\"\" amchong=\"\" american=\"\" an=\"\" and=\"\" cest=\"\" climatology=\"\" climexp_url=\"\" code:=\"\" contact_email=\"\" coordinates:=\"\" database.bulletin=\"\" degrees_east=\"\" degrees_north=\"\" elevation=\"\" fri=\"\" from=\"\" global=\"\" historical=\"\" http:=\"\" https:=\"\" india=\"\" institution=\"\" jul=\"\" latitude=\"\" longitude=\"\" m=\"\" meteorological=\"\" ncdc.ghcnm=\"\" near=\"\" network=\"\" noaa=\"\" of=\"\" overview=\"\" peterson=\"\" prcp=\"\" r.s.=\"\" references=\"\" retrieved=\"\" scripturl01=\"\" society=\"\" source_url=\"\" station=\"\" station_code=\"\" station_country=\"\" station_name=\"\" t.c.=\"\" temperature=\"\" the=\"\" v2.prcp=\"\" vose=\"\" wmo=\"\"></assam></p> 20000501\n",
            "AMCHONGSONEPUR<assam ::=\"\" amchong=\"\" american=\"\" an=\"\" and=\"\" cest=\"\" climatology=\"\" climexp_url=\"\" code:=\"\" contact_email=\"\" coordinates:=\"\" database.bulletin=\"\" degrees_east=\"\" degrees_north=\"\" elevation=\"\" fri=\"\" from=\"\" global=\"\" historical=\"\" http:=\"\" https:=\"\" india=\"\" institution=\"\" jul=\"\" latitude=\"\" longitude=\"\" m=\"\" meteorological=\"\" ncdc.ghcnm=\"\" near=\"\" network=\"\" noaa=\"\" of=\"\" overview=\"\" peterson=\"\" prcp=\"\" r.s.=\"\" references=\"\" retrieved=\"\" scripturl01=\"\" society=\"\" source_url=\"\" station=\"\" station_code=\"\" station_country=\"\" station_name=\"\" t.c.=\"\" temperature=\"\" the=\"\" v2.prcp=\"\" vose=\"\" wmo=\"\"></assam></p> 20000601\n",
            "AMCHONGSONEPUR<assam ::=\"\" amchong=\"\" american=\"\" an=\"\" and=\"\" cest=\"\" climatology=\"\" climexp_url=\"\" code:=\"\" contact_email=\"\" coordinates:=\"\" database.bulletin=\"\" degrees_east=\"\" degrees_north=\"\" elevation=\"\" fri=\"\" from=\"\" global=\"\" historical=\"\" http:=\"\" https:=\"\" india=\"\" institution=\"\" jul=\"\" latitude=\"\" longitude=\"\" m=\"\" meteorological=\"\" ncdc.ghcnm=\"\" near=\"\" network=\"\" noaa=\"\" of=\"\" overview=\"\" peterson=\"\" prcp=\"\" r.s.=\"\" references=\"\" retrieved=\"\" scripturl01=\"\" society=\"\" source_url=\"\" station=\"\" station_code=\"\" station_country=\"\" station_name=\"\" t.c.=\"\" temperature=\"\" the=\"\" v2.prcp=\"\" vose=\"\" wmo=\"\"></assam></p> 20000701\n",
            "AMCHONGSONEPUR<assam ::=\"\" amchong=\"\" american=\"\" an=\"\" and=\"\" cest=\"\" climatology=\"\" climexp_url=\"\" code:=\"\" contact_email=\"\" coordinates:=\"\" database.bulletin=\"\" degrees_east=\"\" degrees_north=\"\" elevation=\"\" fri=\"\" from=\"\" global=\"\" historical=\"\" http:=\"\" https:=\"\" india=\"\" institution=\"\" jul=\"\" latitude=\"\" longitude=\"\" m=\"\" meteorological=\"\" ncdc.ghcnm=\"\" near=\"\" network=\"\" noaa=\"\" of=\"\" overview=\"\" peterson=\"\" prcp=\"\" r.s.=\"\" references=\"\" retrieved=\"\" scripturl01=\"\" society=\"\" source_url=\"\" station=\"\" station_code=\"\" station_country=\"\" station_name=\"\" t.c.=\"\" temperature=\"\" the=\"\" v2.prcp=\"\" vose=\"\" wmo=\"\"></assam></p> 20000801\n",
            "AMCHONGSONEPUR<assam ::=\"\" amchong=\"\" american=\"\" an=\"\" and=\"\" cest=\"\" climatology=\"\" climexp_url=\"\" code:=\"\" contact_email=\"\" coordinates:=\"\" database.bulletin=\"\" degrees_east=\"\" degrees_north=\"\" elevation=\"\" fri=\"\" from=\"\" global=\"\" historical=\"\" http:=\"\" https:=\"\" india=\"\" institution=\"\" jul=\"\" latitude=\"\" longitude=\"\" m=\"\" meteorological=\"\" ncdc.ghcnm=\"\" near=\"\" network=\"\" noaa=\"\" of=\"\" overview=\"\" peterson=\"\" prcp=\"\" r.s.=\"\" references=\"\" retrieved=\"\" scripturl01=\"\" society=\"\" source_url=\"\" station=\"\" station_code=\"\" station_country=\"\" station_name=\"\" t.c.=\"\" temperature=\"\" the=\"\" v2.prcp=\"\" vose=\"\" wmo=\"\"></assam></p> 20000901\n",
            "AMCHONGSONEPUR<assam ::=\"\" amchong=\"\" american=\"\" an=\"\" and=\"\" cest=\"\" climatology=\"\" climexp_url=\"\" code:=\"\" contact_email=\"\" coordinates:=\"\" database.bulletin=\"\" degrees_east=\"\" degrees_north=\"\" elevation=\"\" fri=\"\" from=\"\" global=\"\" historical=\"\" http:=\"\" https:=\"\" india=\"\" institution=\"\" jul=\"\" latitude=\"\" longitude=\"\" m=\"\" meteorological=\"\" ncdc.ghcnm=\"\" near=\"\" network=\"\" noaa=\"\" of=\"\" overview=\"\" peterson=\"\" prcp=\"\" r.s.=\"\" references=\"\" retrieved=\"\" scripturl01=\"\" society=\"\" source_url=\"\" station=\"\" station_code=\"\" station_country=\"\" station_name=\"\" t.c.=\"\" temperature=\"\" the=\"\" v2.prcp=\"\" vose=\"\" wmo=\"\"></assam></p> 20001001\n",
            "AMCHONGSONEPUR<assam ::=\"\" amchong=\"\" american=\"\" an=\"\" and=\"\" cest=\"\" climatology=\"\" climexp_url=\"\" code:=\"\" contact_email=\"\" coordinates:=\"\" database.bulletin=\"\" degrees_east=\"\" degrees_north=\"\" elevation=\"\" fri=\"\" from=\"\" global=\"\" historical=\"\" http:=\"\" https:=\"\" india=\"\" institution=\"\" jul=\"\" latitude=\"\" longitude=\"\" m=\"\" meteorological=\"\" ncdc.ghcnm=\"\" near=\"\" network=\"\" noaa=\"\" of=\"\" overview=\"\" peterson=\"\" prcp=\"\" r.s.=\"\" references=\"\" retrieved=\"\" scripturl01=\"\" society=\"\" source_url=\"\" station=\"\" station_code=\"\" station_country=\"\" station_name=\"\" t.c.=\"\" temperature=\"\" the=\"\" v2.prcp=\"\" vose=\"\" wmo=\"\"></assam></p> 20001101\n",
            "AMCHONGSONEPUR<assam ::=\"\" amchong=\"\" american=\"\" an=\"\" and=\"\" cest=\"\" climatology=\"\" climexp_url=\"\" code:=\"\" contact_email=\"\" coordinates:=\"\" database.bulletin=\"\" degrees_east=\"\" degrees_north=\"\" elevation=\"\" fri=\"\" from=\"\" global=\"\" historical=\"\" http:=\"\" https:=\"\" india=\"\" institution=\"\" jul=\"\" latitude=\"\" longitude=\"\" m=\"\" meteorological=\"\" ncdc.ghcnm=\"\" near=\"\" network=\"\" noaa=\"\" of=\"\" overview=\"\" peterson=\"\" prcp=\"\" r.s.=\"\" references=\"\" retrieved=\"\" scripturl01=\"\" society=\"\" source_url=\"\" station=\"\" station_code=\"\" station_country=\"\" station_name=\"\" t.c.=\"\" temperature=\"\" the=\"\" v2.prcp=\"\" vose=\"\" wmo=\"\"></assam></p> 20001201\n",
            "UNIARA ALIGARH<rajastha ::=\"\" american=\"\" an=\"\" and=\"\" cest=\"\" climatology=\"\" climexp_url=\"\" code:=\"\" contact_email=\"\" coordinates:=\"\" database.bulletin=\"\" degrees_east=\"\" degrees_north=\"\" elevation=\"\" fri=\"\" from=\"\" global=\"\" historical=\"\" http:=\"\" https:=\"\" india=\"\" institution=\"\" jul=\"\" latitude=\"\" longitude=\"\" m=\"\" meteorological=\"\" ncdc.ghcnm=\"\" near=\"\" network=\"\" noaa=\"\" of=\"\" overview=\"\" peterson=\"\" prcp=\"\" r.s.=\"\" references=\"\" retrieved=\"\" scripturl01=\"\" society=\"\" source_url=\"\" station=\"\" station_code=\"\" station_country=\"\" station_name=\"\" t.c.=\"\" temperature=\"\" the=\"\" uniara_=\"\" v2.prcp=\"\" vose=\"\" wmo=\"\"></rajastha></p> 20000101\n",
            "UNIARA ALIGARH<rajastha ::=\"\" american=\"\" an=\"\" and=\"\" cest=\"\" climatology=\"\" climexp_url=\"\" code:=\"\" contact_email=\"\" coordinates:=\"\" database.bulletin=\"\" degrees_east=\"\" degrees_north=\"\" elevation=\"\" fri=\"\" from=\"\" global=\"\" historical=\"\" http:=\"\" https:=\"\" india=\"\" institution=\"\" jul=\"\" latitude=\"\" longitude=\"\" m=\"\" meteorological=\"\" ncdc.ghcnm=\"\" near=\"\" network=\"\" noaa=\"\" of=\"\" overview=\"\" peterson=\"\" prcp=\"\" r.s.=\"\" references=\"\" retrieved=\"\" scripturl01=\"\" society=\"\" source_url=\"\" station=\"\" station_code=\"\" station_country=\"\" station_name=\"\" t.c.=\"\" temperature=\"\" the=\"\" uniara_=\"\" v2.prcp=\"\" vose=\"\" wmo=\"\"></rajastha></p> 20000201\n",
            "UNIARA ALIGARH<rajastha ::=\"\" american=\"\" an=\"\" and=\"\" cest=\"\" climatology=\"\" climexp_url=\"\" code:=\"\" contact_email=\"\" coordinates:=\"\" database.bulletin=\"\" degrees_east=\"\" degrees_north=\"\" elevation=\"\" fri=\"\" from=\"\" global=\"\" historical=\"\" http:=\"\" https:=\"\" india=\"\" institution=\"\" jul=\"\" latitude=\"\" longitude=\"\" m=\"\" meteorological=\"\" ncdc.ghcnm=\"\" near=\"\" network=\"\" noaa=\"\" of=\"\" overview=\"\" peterson=\"\" prcp=\"\" r.s.=\"\" references=\"\" retrieved=\"\" scripturl01=\"\" society=\"\" source_url=\"\" station=\"\" station_code=\"\" station_country=\"\" station_name=\"\" t.c.=\"\" temperature=\"\" the=\"\" uniara_=\"\" v2.prcp=\"\" vose=\"\" wmo=\"\"></rajastha></p> 20000301\n",
            "UNIARA ALIGARH<rajastha ::=\"\" american=\"\" an=\"\" and=\"\" cest=\"\" climatology=\"\" climexp_url=\"\" code:=\"\" contact_email=\"\" coordinates:=\"\" database.bulletin=\"\" degrees_east=\"\" degrees_north=\"\" elevation=\"\" fri=\"\" from=\"\" global=\"\" historical=\"\" http:=\"\" https:=\"\" india=\"\" institution=\"\" jul=\"\" latitude=\"\" longitude=\"\" m=\"\" meteorological=\"\" ncdc.ghcnm=\"\" near=\"\" network=\"\" noaa=\"\" of=\"\" overview=\"\" peterson=\"\" prcp=\"\" r.s.=\"\" references=\"\" retrieved=\"\" scripturl01=\"\" society=\"\" source_url=\"\" station=\"\" station_code=\"\" station_country=\"\" station_name=\"\" t.c.=\"\" temperature=\"\" the=\"\" uniara_=\"\" v2.prcp=\"\" vose=\"\" wmo=\"\"></rajastha></p> 20000401\n",
            "UNIARA ALIGARH<rajastha ::=\"\" american=\"\" an=\"\" and=\"\" cest=\"\" climatology=\"\" climexp_url=\"\" code:=\"\" contact_email=\"\" coordinates:=\"\" database.bulletin=\"\" degrees_east=\"\" degrees_north=\"\" elevation=\"\" fri=\"\" from=\"\" global=\"\" historical=\"\" http:=\"\" https:=\"\" india=\"\" institution=\"\" jul=\"\" latitude=\"\" longitude=\"\" m=\"\" meteorological=\"\" ncdc.ghcnm=\"\" near=\"\" network=\"\" noaa=\"\" of=\"\" overview=\"\" peterson=\"\" prcp=\"\" r.s.=\"\" references=\"\" retrieved=\"\" scripturl01=\"\" society=\"\" source_url=\"\" station=\"\" station_code=\"\" station_country=\"\" station_name=\"\" t.c.=\"\" temperature=\"\" the=\"\" uniara_=\"\" v2.prcp=\"\" vose=\"\" wmo=\"\"></rajastha></p> 20000501\n",
            "UNIARA ALIGARH<rajastha ::=\"\" american=\"\" an=\"\" and=\"\" cest=\"\" climatology=\"\" climexp_url=\"\" code:=\"\" contact_email=\"\" coordinates:=\"\" database.bulletin=\"\" degrees_east=\"\" degrees_north=\"\" elevation=\"\" fri=\"\" from=\"\" global=\"\" historical=\"\" http:=\"\" https:=\"\" india=\"\" institution=\"\" jul=\"\" latitude=\"\" longitude=\"\" m=\"\" meteorological=\"\" ncdc.ghcnm=\"\" near=\"\" network=\"\" noaa=\"\" of=\"\" overview=\"\" peterson=\"\" prcp=\"\" r.s.=\"\" references=\"\" retrieved=\"\" scripturl01=\"\" society=\"\" source_url=\"\" station=\"\" station_code=\"\" station_country=\"\" station_name=\"\" t.c.=\"\" temperature=\"\" the=\"\" uniara_=\"\" v2.prcp=\"\" vose=\"\" wmo=\"\"></rajastha></p> 20000601\n",
            "UNIARA ALIGARH<rajastha ::=\"\" american=\"\" an=\"\" and=\"\" cest=\"\" climatology=\"\" climexp_url=\"\" code:=\"\" contact_email=\"\" coordinates:=\"\" database.bulletin=\"\" degrees_east=\"\" degrees_north=\"\" elevation=\"\" fri=\"\" from=\"\" global=\"\" historical=\"\" http:=\"\" https:=\"\" india=\"\" institution=\"\" jul=\"\" latitude=\"\" longitude=\"\" m=\"\" meteorological=\"\" ncdc.ghcnm=\"\" near=\"\" network=\"\" noaa=\"\" of=\"\" overview=\"\" peterson=\"\" prcp=\"\" r.s.=\"\" references=\"\" retrieved=\"\" scripturl01=\"\" society=\"\" source_url=\"\" station=\"\" station_code=\"\" station_country=\"\" station_name=\"\" t.c.=\"\" temperature=\"\" the=\"\" uniara_=\"\" v2.prcp=\"\" vose=\"\" wmo=\"\"></rajastha></p> 20000701\n",
            "UNIARA ALIGARH<rajastha ::=\"\" american=\"\" an=\"\" and=\"\" cest=\"\" climatology=\"\" climexp_url=\"\" code:=\"\" contact_email=\"\" coordinates:=\"\" database.bulletin=\"\" degrees_east=\"\" degrees_north=\"\" elevation=\"\" fri=\"\" from=\"\" global=\"\" historical=\"\" http:=\"\" https:=\"\" india=\"\" institution=\"\" jul=\"\" latitude=\"\" longitude=\"\" m=\"\" meteorological=\"\" ncdc.ghcnm=\"\" near=\"\" network=\"\" noaa=\"\" of=\"\" overview=\"\" peterson=\"\" prcp=\"\" r.s.=\"\" references=\"\" retrieved=\"\" scripturl01=\"\" society=\"\" source_url=\"\" station=\"\" station_code=\"\" station_country=\"\" station_name=\"\" t.c.=\"\" temperature=\"\" the=\"\" uniara_=\"\" v2.prcp=\"\" vose=\"\" wmo=\"\"></rajastha></p> 20000801\n",
            "UNIARA ALIGARH<rajastha ::=\"\" american=\"\" an=\"\" and=\"\" cest=\"\" climatology=\"\" climexp_url=\"\" code:=\"\" contact_email=\"\" coordinates:=\"\" database.bulletin=\"\" degrees_east=\"\" degrees_north=\"\" elevation=\"\" fri=\"\" from=\"\" global=\"\" historical=\"\" http:=\"\" https:=\"\" india=\"\" institution=\"\" jul=\"\" latitude=\"\" longitude=\"\" m=\"\" meteorological=\"\" ncdc.ghcnm=\"\" near=\"\" network=\"\" noaa=\"\" of=\"\" overview=\"\" peterson=\"\" prcp=\"\" r.s.=\"\" references=\"\" retrieved=\"\" scripturl01=\"\" society=\"\" source_url=\"\" station=\"\" station_code=\"\" station_country=\"\" station_name=\"\" t.c.=\"\" temperature=\"\" the=\"\" uniara_=\"\" v2.prcp=\"\" vose=\"\" wmo=\"\"></rajastha></p> 20000901\n",
            "UNIARA ALIGARH<rajastha ::=\"\" american=\"\" an=\"\" and=\"\" cest=\"\" climatology=\"\" climexp_url=\"\" code:=\"\" contact_email=\"\" coordinates:=\"\" database.bulletin=\"\" degrees_east=\"\" degrees_north=\"\" elevation=\"\" fri=\"\" from=\"\" global=\"\" historical=\"\" http:=\"\" https:=\"\" india=\"\" institution=\"\" jul=\"\" latitude=\"\" longitude=\"\" m=\"\" meteorological=\"\" ncdc.ghcnm=\"\" near=\"\" network=\"\" noaa=\"\" of=\"\" overview=\"\" peterson=\"\" prcp=\"\" r.s.=\"\" references=\"\" retrieved=\"\" scripturl01=\"\" society=\"\" source_url=\"\" station=\"\" station_code=\"\" station_country=\"\" station_name=\"\" t.c.=\"\" temperature=\"\" the=\"\" uniara_=\"\" v2.prcp=\"\" vose=\"\" wmo=\"\"></rajastha></p> 20001001\n",
            "UNIARA ALIGARH<rajastha ::=\"\" american=\"\" an=\"\" and=\"\" cest=\"\" climatology=\"\" climexp_url=\"\" code:=\"\" contact_email=\"\" coordinates:=\"\" database.bulletin=\"\" degrees_east=\"\" degrees_north=\"\" elevation=\"\" fri=\"\" from=\"\" global=\"\" historical=\"\" http:=\"\" https:=\"\" india=\"\" institution=\"\" jul=\"\" latitude=\"\" longitude=\"\" m=\"\" meteorological=\"\" ncdc.ghcnm=\"\" near=\"\" network=\"\" noaa=\"\" of=\"\" overview=\"\" peterson=\"\" prcp=\"\" r.s.=\"\" references=\"\" retrieved=\"\" scripturl01=\"\" society=\"\" source_url=\"\" station=\"\" station_code=\"\" station_country=\"\" station_name=\"\" t.c.=\"\" temperature=\"\" the=\"\" uniara_=\"\" v2.prcp=\"\" vose=\"\" wmo=\"\"></rajastha></p> 20001101\n",
            "UNIARA ALIGARH<rajastha ::=\"\" american=\"\" an=\"\" and=\"\" cest=\"\" climatology=\"\" climexp_url=\"\" code:=\"\" contact_email=\"\" coordinates:=\"\" database.bulletin=\"\" degrees_east=\"\" degrees_north=\"\" elevation=\"\" fri=\"\" from=\"\" global=\"\" historical=\"\" http:=\"\" https:=\"\" india=\"\" institution=\"\" jul=\"\" latitude=\"\" longitude=\"\" m=\"\" meteorological=\"\" ncdc.ghcnm=\"\" near=\"\" network=\"\" noaa=\"\" of=\"\" overview=\"\" peterson=\"\" prcp=\"\" r.s.=\"\" references=\"\" retrieved=\"\" scripturl01=\"\" society=\"\" source_url=\"\" station=\"\" station_code=\"\" station_country=\"\" station_name=\"\" t.c.=\"\" temperature=\"\" the=\"\" uniara_=\"\" v2.prcp=\"\" vose=\"\" wmo=\"\"></rajastha></p> 20001201\n",
            "SALWANISILVANI<m.p. ::=\"\" american=\"\" an=\"\" and=\"\" cest=\"\" climatology=\"\" climexp_url=\"\" code:=\"\" contact_email=\"\" coordinates:=\"\" database.bulletin=\"\" degrees_east=\"\" degrees_north=\"\" elevation=\"\" fri=\"\" from=\"\" global=\"\" historical=\"\" http:=\"\" https:=\"\" india=\"\" institution=\"\" jul=\"\" latitude=\"\" longitude=\"\" m=\"\" meteorological=\"\" ncdc.ghcnm=\"\" near=\"\" network=\"\" noaa=\"\" of=\"\" overview=\"\" peterson=\"\" prcp=\"\" r.s.=\"\" references=\"\" retrieved=\"\" salwani=\"\" scripturl01=\"\" society=\"\" source_url=\"\" station=\"\" station_code=\"\" station_country=\"\" station_name=\"\" t.c.=\"\" temperature=\"\" the=\"\" v2.prcp=\"\" vose=\"\" wmo=\"\"></m.p.></p> 20000101\n",
            "SALWANISILVANI<m.p. ::=\"\" american=\"\" an=\"\" and=\"\" cest=\"\" climatology=\"\" climexp_url=\"\" code:=\"\" contact_email=\"\" coordinates:=\"\" database.bulletin=\"\" degrees_east=\"\" degrees_north=\"\" elevation=\"\" fri=\"\" from=\"\" global=\"\" historical=\"\" http:=\"\" https:=\"\" india=\"\" institution=\"\" jul=\"\" latitude=\"\" longitude=\"\" m=\"\" meteorological=\"\" ncdc.ghcnm=\"\" near=\"\" network=\"\" noaa=\"\" of=\"\" overview=\"\" peterson=\"\" prcp=\"\" r.s.=\"\" references=\"\" retrieved=\"\" salwani=\"\" scripturl01=\"\" society=\"\" source_url=\"\" station=\"\" station_code=\"\" station_country=\"\" station_name=\"\" t.c.=\"\" temperature=\"\" the=\"\" v2.prcp=\"\" vose=\"\" wmo=\"\"></m.p.></p> 20000201\n",
            "SALWANISILVANI<m.p. ::=\"\" american=\"\" an=\"\" and=\"\" cest=\"\" climatology=\"\" climexp_url=\"\" code:=\"\" contact_email=\"\" coordinates:=\"\" database.bulletin=\"\" degrees_east=\"\" degrees_north=\"\" elevation=\"\" fri=\"\" from=\"\" global=\"\" historical=\"\" http:=\"\" https:=\"\" india=\"\" institution=\"\" jul=\"\" latitude=\"\" longitude=\"\" m=\"\" meteorological=\"\" ncdc.ghcnm=\"\" near=\"\" network=\"\" noaa=\"\" of=\"\" overview=\"\" peterson=\"\" prcp=\"\" r.s.=\"\" references=\"\" retrieved=\"\" salwani=\"\" scripturl01=\"\" society=\"\" source_url=\"\" station=\"\" station_code=\"\" station_country=\"\" station_name=\"\" t.c.=\"\" temperature=\"\" the=\"\" v2.prcp=\"\" vose=\"\" wmo=\"\"></m.p.></p> 20000301\n",
            "SALWANISILVANI<m.p. ::=\"\" american=\"\" an=\"\" and=\"\" cest=\"\" climatology=\"\" climexp_url=\"\" code:=\"\" contact_email=\"\" coordinates:=\"\" database.bulletin=\"\" degrees_east=\"\" degrees_north=\"\" elevation=\"\" fri=\"\" from=\"\" global=\"\" historical=\"\" http:=\"\" https:=\"\" india=\"\" institution=\"\" jul=\"\" latitude=\"\" longitude=\"\" m=\"\" meteorological=\"\" ncdc.ghcnm=\"\" near=\"\" network=\"\" noaa=\"\" of=\"\" overview=\"\" peterson=\"\" prcp=\"\" r.s.=\"\" references=\"\" retrieved=\"\" salwani=\"\" scripturl01=\"\" society=\"\" source_url=\"\" station=\"\" station_code=\"\" station_country=\"\" station_name=\"\" t.c.=\"\" temperature=\"\" the=\"\" v2.prcp=\"\" vose=\"\" wmo=\"\"></m.p.></p> 20000401\n",
            "SALWANISILVANI<m.p. ::=\"\" american=\"\" an=\"\" and=\"\" cest=\"\" climatology=\"\" climexp_url=\"\" code:=\"\" contact_email=\"\" coordinates:=\"\" database.bulletin=\"\" degrees_east=\"\" degrees_north=\"\" elevation=\"\" fri=\"\" from=\"\" global=\"\" historical=\"\" http:=\"\" https:=\"\" india=\"\" institution=\"\" jul=\"\" latitude=\"\" longitude=\"\" m=\"\" meteorological=\"\" ncdc.ghcnm=\"\" near=\"\" network=\"\" noaa=\"\" of=\"\" overview=\"\" peterson=\"\" prcp=\"\" r.s.=\"\" references=\"\" retrieved=\"\" salwani=\"\" scripturl01=\"\" society=\"\" source_url=\"\" station=\"\" station_code=\"\" station_country=\"\" station_name=\"\" t.c.=\"\" temperature=\"\" the=\"\" v2.prcp=\"\" vose=\"\" wmo=\"\"></m.p.></p> 20000501\n",
            "SALWANISILVANI<m.p. ::=\"\" american=\"\" an=\"\" and=\"\" cest=\"\" climatology=\"\" climexp_url=\"\" code:=\"\" contact_email=\"\" coordinates:=\"\" database.bulletin=\"\" degrees_east=\"\" degrees_north=\"\" elevation=\"\" fri=\"\" from=\"\" global=\"\" historical=\"\" http:=\"\" https:=\"\" india=\"\" institution=\"\" jul=\"\" latitude=\"\" longitude=\"\" m=\"\" meteorological=\"\" ncdc.ghcnm=\"\" near=\"\" network=\"\" noaa=\"\" of=\"\" overview=\"\" peterson=\"\" prcp=\"\" r.s.=\"\" references=\"\" retrieved=\"\" salwani=\"\" scripturl01=\"\" society=\"\" source_url=\"\" station=\"\" station_code=\"\" station_country=\"\" station_name=\"\" t.c.=\"\" temperature=\"\" the=\"\" v2.prcp=\"\" vose=\"\" wmo=\"\"></m.p.></p> 20000601\n",
            "SALWANISILVANI<m.p. ::=\"\" american=\"\" an=\"\" and=\"\" cest=\"\" climatology=\"\" climexp_url=\"\" code:=\"\" contact_email=\"\" coordinates:=\"\" database.bulletin=\"\" degrees_east=\"\" degrees_north=\"\" elevation=\"\" fri=\"\" from=\"\" global=\"\" historical=\"\" http:=\"\" https:=\"\" india=\"\" institution=\"\" jul=\"\" latitude=\"\" longitude=\"\" m=\"\" meteorological=\"\" ncdc.ghcnm=\"\" near=\"\" network=\"\" noaa=\"\" of=\"\" overview=\"\" peterson=\"\" prcp=\"\" r.s.=\"\" references=\"\" retrieved=\"\" salwani=\"\" scripturl01=\"\" society=\"\" source_url=\"\" station=\"\" station_code=\"\" station_country=\"\" station_name=\"\" t.c.=\"\" temperature=\"\" the=\"\" v2.prcp=\"\" vose=\"\" wmo=\"\"></m.p.></p> 20000701\n",
            "SALWANISILVANI<m.p. ::=\"\" american=\"\" an=\"\" and=\"\" cest=\"\" climatology=\"\" climexp_url=\"\" code:=\"\" contact_email=\"\" coordinates:=\"\" database.bulletin=\"\" degrees_east=\"\" degrees_north=\"\" elevation=\"\" fri=\"\" from=\"\" global=\"\" historical=\"\" http:=\"\" https:=\"\" india=\"\" institution=\"\" jul=\"\" latitude=\"\" longitude=\"\" m=\"\" meteorological=\"\" ncdc.ghcnm=\"\" near=\"\" network=\"\" noaa=\"\" of=\"\" overview=\"\" peterson=\"\" prcp=\"\" r.s.=\"\" references=\"\" retrieved=\"\" salwani=\"\" scripturl01=\"\" society=\"\" source_url=\"\" station=\"\" station_code=\"\" station_country=\"\" station_name=\"\" t.c.=\"\" temperature=\"\" the=\"\" v2.prcp=\"\" vose=\"\" wmo=\"\"></m.p.></p> 20000801\n",
            "SALWANISILVANI<m.p. ::=\"\" american=\"\" an=\"\" and=\"\" cest=\"\" climatology=\"\" climexp_url=\"\" code:=\"\" contact_email=\"\" coordinates:=\"\" database.bulletin=\"\" degrees_east=\"\" degrees_north=\"\" elevation=\"\" fri=\"\" from=\"\" global=\"\" historical=\"\" http:=\"\" https:=\"\" india=\"\" institution=\"\" jul=\"\" latitude=\"\" longitude=\"\" m=\"\" meteorological=\"\" ncdc.ghcnm=\"\" near=\"\" network=\"\" noaa=\"\" of=\"\" overview=\"\" peterson=\"\" prcp=\"\" r.s.=\"\" references=\"\" retrieved=\"\" salwani=\"\" scripturl01=\"\" society=\"\" source_url=\"\" station=\"\" station_code=\"\" station_country=\"\" station_name=\"\" t.c.=\"\" temperature=\"\" the=\"\" v2.prcp=\"\" vose=\"\" wmo=\"\"></m.p.></p> 20000901\n",
            "SALWANISILVANI<m.p. ::=\"\" american=\"\" an=\"\" and=\"\" cest=\"\" climatology=\"\" climexp_url=\"\" code:=\"\" contact_email=\"\" coordinates:=\"\" database.bulletin=\"\" degrees_east=\"\" degrees_north=\"\" elevation=\"\" fri=\"\" from=\"\" global=\"\" historical=\"\" http:=\"\" https:=\"\" india=\"\" institution=\"\" jul=\"\" latitude=\"\" longitude=\"\" m=\"\" meteorological=\"\" ncdc.ghcnm=\"\" near=\"\" network=\"\" noaa=\"\" of=\"\" overview=\"\" peterson=\"\" prcp=\"\" r.s.=\"\" references=\"\" retrieved=\"\" salwani=\"\" scripturl01=\"\" society=\"\" source_url=\"\" station=\"\" station_code=\"\" station_country=\"\" station_name=\"\" t.c.=\"\" temperature=\"\" the=\"\" v2.prcp=\"\" vose=\"\" wmo=\"\"></m.p.></p> 20001001\n",
            "SALWANISILVANI<m.p. ::=\"\" american=\"\" an=\"\" and=\"\" cest=\"\" climatology=\"\" climexp_url=\"\" code:=\"\" contact_email=\"\" coordinates:=\"\" database.bulletin=\"\" degrees_east=\"\" degrees_north=\"\" elevation=\"\" fri=\"\" from=\"\" global=\"\" historical=\"\" http:=\"\" https:=\"\" india=\"\" institution=\"\" jul=\"\" latitude=\"\" longitude=\"\" m=\"\" meteorological=\"\" ncdc.ghcnm=\"\" near=\"\" network=\"\" noaa=\"\" of=\"\" overview=\"\" peterson=\"\" prcp=\"\" r.s.=\"\" references=\"\" retrieved=\"\" salwani=\"\" scripturl01=\"\" society=\"\" source_url=\"\" station=\"\" station_code=\"\" station_country=\"\" station_name=\"\" t.c.=\"\" temperature=\"\" the=\"\" v2.prcp=\"\" vose=\"\" wmo=\"\"></m.p.></p> 20001101\n",
            "SALWANISILVANI<m.p. ::=\"\" american=\"\" an=\"\" and=\"\" cest=\"\" climatology=\"\" climexp_url=\"\" code:=\"\" contact_email=\"\" coordinates:=\"\" database.bulletin=\"\" degrees_east=\"\" degrees_north=\"\" elevation=\"\" fri=\"\" from=\"\" global=\"\" historical=\"\" http:=\"\" https:=\"\" india=\"\" institution=\"\" jul=\"\" latitude=\"\" longitude=\"\" m=\"\" meteorological=\"\" ncdc.ghcnm=\"\" near=\"\" network=\"\" noaa=\"\" of=\"\" overview=\"\" peterson=\"\" prcp=\"\" r.s.=\"\" references=\"\" retrieved=\"\" salwani=\"\" scripturl01=\"\" society=\"\" source_url=\"\" station=\"\" station_code=\"\" station_country=\"\" station_name=\"\" t.c.=\"\" temperature=\"\" the=\"\" v2.prcp=\"\" vose=\"\" wmo=\"\"></m.p.></p> 20001201\n",
            "RAJPIPLANANDOD<gujarat ::=\"\" american=\"\" an=\"\" and=\"\" cest=\"\" climatology=\"\" climexp_url=\"\" code:=\"\" contact_email=\"\" coordinates:=\"\" database.bulletin=\"\" degrees_east=\"\" degrees_north=\"\" elevation=\"\" fri=\"\" from=\"\" global=\"\" historical=\"\" http:=\"\" https:=\"\" india=\"\" institution=\"\" jul=\"\" latitude=\"\" longitude=\"\" m=\"\" meteorological=\"\" ncdc.ghcnm=\"\" near=\"\" network=\"\" noaa=\"\" of=\"\" overview=\"\" peterson=\"\" prcp=\"\" r.s.=\"\" rajpipla=\"\" references=\"\" retrieved=\"\" scripturl01=\"\" society=\"\" source_url=\"\" station=\"\" station_code=\"\" station_country=\"\" station_name=\"\" t.c.=\"\" temperature=\"\" the=\"\" v2.prcp=\"\" vose=\"\" wmo=\"\"></gujarat></p> 20000101\n",
            "RAJPIPLANANDOD<gujarat ::=\"\" american=\"\" an=\"\" and=\"\" cest=\"\" climatology=\"\" climexp_url=\"\" code:=\"\" contact_email=\"\" coordinates:=\"\" database.bulletin=\"\" degrees_east=\"\" degrees_north=\"\" elevation=\"\" fri=\"\" from=\"\" global=\"\" historical=\"\" http:=\"\" https:=\"\" india=\"\" institution=\"\" jul=\"\" latitude=\"\" longitude=\"\" m=\"\" meteorological=\"\" ncdc.ghcnm=\"\" near=\"\" network=\"\" noaa=\"\" of=\"\" overview=\"\" peterson=\"\" prcp=\"\" r.s.=\"\" rajpipla=\"\" references=\"\" retrieved=\"\" scripturl01=\"\" society=\"\" source_url=\"\" station=\"\" station_code=\"\" station_country=\"\" station_name=\"\" t.c.=\"\" temperature=\"\" the=\"\" v2.prcp=\"\" vose=\"\" wmo=\"\"></gujarat></p> 20000201\n",
            "RAJPIPLANANDOD<gujarat ::=\"\" american=\"\" an=\"\" and=\"\" cest=\"\" climatology=\"\" climexp_url=\"\" code:=\"\" contact_email=\"\" coordinates:=\"\" database.bulletin=\"\" degrees_east=\"\" degrees_north=\"\" elevation=\"\" fri=\"\" from=\"\" global=\"\" historical=\"\" http:=\"\" https:=\"\" india=\"\" institution=\"\" jul=\"\" latitude=\"\" longitude=\"\" m=\"\" meteorological=\"\" ncdc.ghcnm=\"\" near=\"\" network=\"\" noaa=\"\" of=\"\" overview=\"\" peterson=\"\" prcp=\"\" r.s.=\"\" rajpipla=\"\" references=\"\" retrieved=\"\" scripturl01=\"\" society=\"\" source_url=\"\" station=\"\" station_code=\"\" station_country=\"\" station_name=\"\" t.c.=\"\" temperature=\"\" the=\"\" v2.prcp=\"\" vose=\"\" wmo=\"\"></gujarat></p> 20000301\n",
            "RAJPIPLANANDOD<gujarat ::=\"\" american=\"\" an=\"\" and=\"\" cest=\"\" climatology=\"\" climexp_url=\"\" code:=\"\" contact_email=\"\" coordinates:=\"\" database.bulletin=\"\" degrees_east=\"\" degrees_north=\"\" elevation=\"\" fri=\"\" from=\"\" global=\"\" historical=\"\" http:=\"\" https:=\"\" india=\"\" institution=\"\" jul=\"\" latitude=\"\" longitude=\"\" m=\"\" meteorological=\"\" ncdc.ghcnm=\"\" near=\"\" network=\"\" noaa=\"\" of=\"\" overview=\"\" peterson=\"\" prcp=\"\" r.s.=\"\" rajpipla=\"\" references=\"\" retrieved=\"\" scripturl01=\"\" society=\"\" source_url=\"\" station=\"\" station_code=\"\" station_country=\"\" station_name=\"\" t.c.=\"\" temperature=\"\" the=\"\" v2.prcp=\"\" vose=\"\" wmo=\"\"></gujarat></p> 20000401\n",
            "RAJPIPLANANDOD<gujarat ::=\"\" american=\"\" an=\"\" and=\"\" cest=\"\" climatology=\"\" climexp_url=\"\" code:=\"\" contact_email=\"\" coordinates:=\"\" database.bulletin=\"\" degrees_east=\"\" degrees_north=\"\" elevation=\"\" fri=\"\" from=\"\" global=\"\" historical=\"\" http:=\"\" https:=\"\" india=\"\" institution=\"\" jul=\"\" latitude=\"\" longitude=\"\" m=\"\" meteorological=\"\" ncdc.ghcnm=\"\" near=\"\" network=\"\" noaa=\"\" of=\"\" overview=\"\" peterson=\"\" prcp=\"\" r.s.=\"\" rajpipla=\"\" references=\"\" retrieved=\"\" scripturl01=\"\" society=\"\" source_url=\"\" station=\"\" station_code=\"\" station_country=\"\" station_name=\"\" t.c.=\"\" temperature=\"\" the=\"\" v2.prcp=\"\" vose=\"\" wmo=\"\"></gujarat></p> 20000501\n",
            "RAJPIPLANANDOD<gujarat ::=\"\" american=\"\" an=\"\" and=\"\" cest=\"\" climatology=\"\" climexp_url=\"\" code:=\"\" contact_email=\"\" coordinates:=\"\" database.bulletin=\"\" degrees_east=\"\" degrees_north=\"\" elevation=\"\" fri=\"\" from=\"\" global=\"\" historical=\"\" http:=\"\" https:=\"\" india=\"\" institution=\"\" jul=\"\" latitude=\"\" longitude=\"\" m=\"\" meteorological=\"\" ncdc.ghcnm=\"\" near=\"\" network=\"\" noaa=\"\" of=\"\" overview=\"\" peterson=\"\" prcp=\"\" r.s.=\"\" rajpipla=\"\" references=\"\" retrieved=\"\" scripturl01=\"\" society=\"\" source_url=\"\" station=\"\" station_code=\"\" station_country=\"\" station_name=\"\" t.c.=\"\" temperature=\"\" the=\"\" v2.prcp=\"\" vose=\"\" wmo=\"\"></gujarat></p> 20000601\n",
            "RAJPIPLANANDOD<gujarat ::=\"\" american=\"\" an=\"\" and=\"\" cest=\"\" climatology=\"\" climexp_url=\"\" code:=\"\" contact_email=\"\" coordinates:=\"\" database.bulletin=\"\" degrees_east=\"\" degrees_north=\"\" elevation=\"\" fri=\"\" from=\"\" global=\"\" historical=\"\" http:=\"\" https:=\"\" india=\"\" institution=\"\" jul=\"\" latitude=\"\" longitude=\"\" m=\"\" meteorological=\"\" ncdc.ghcnm=\"\" near=\"\" network=\"\" noaa=\"\" of=\"\" overview=\"\" peterson=\"\" prcp=\"\" r.s.=\"\" rajpipla=\"\" references=\"\" retrieved=\"\" scripturl01=\"\" society=\"\" source_url=\"\" station=\"\" station_code=\"\" station_country=\"\" station_name=\"\" t.c.=\"\" temperature=\"\" the=\"\" v2.prcp=\"\" vose=\"\" wmo=\"\"></gujarat></p> 20000701\n",
            "RAJPIPLANANDOD<gujarat ::=\"\" american=\"\" an=\"\" and=\"\" cest=\"\" climatology=\"\" climexp_url=\"\" code:=\"\" contact_email=\"\" coordinates:=\"\" database.bulletin=\"\" degrees_east=\"\" degrees_north=\"\" elevation=\"\" fri=\"\" from=\"\" global=\"\" historical=\"\" http:=\"\" https:=\"\" india=\"\" institution=\"\" jul=\"\" latitude=\"\" longitude=\"\" m=\"\" meteorological=\"\" ncdc.ghcnm=\"\" near=\"\" network=\"\" noaa=\"\" of=\"\" overview=\"\" peterson=\"\" prcp=\"\" r.s.=\"\" rajpipla=\"\" references=\"\" retrieved=\"\" scripturl01=\"\" society=\"\" source_url=\"\" station=\"\" station_code=\"\" station_country=\"\" station_name=\"\" t.c.=\"\" temperature=\"\" the=\"\" v2.prcp=\"\" vose=\"\" wmo=\"\"></gujarat></p> 20000801\n",
            "RAJPIPLANANDOD<gujarat ::=\"\" american=\"\" an=\"\" and=\"\" cest=\"\" climatology=\"\" climexp_url=\"\" code:=\"\" contact_email=\"\" coordinates:=\"\" database.bulletin=\"\" degrees_east=\"\" degrees_north=\"\" elevation=\"\" fri=\"\" from=\"\" global=\"\" historical=\"\" http:=\"\" https:=\"\" india=\"\" institution=\"\" jul=\"\" latitude=\"\" longitude=\"\" m=\"\" meteorological=\"\" ncdc.ghcnm=\"\" near=\"\" network=\"\" noaa=\"\" of=\"\" overview=\"\" peterson=\"\" prcp=\"\" r.s.=\"\" rajpipla=\"\" references=\"\" retrieved=\"\" scripturl01=\"\" society=\"\" source_url=\"\" station=\"\" station_code=\"\" station_country=\"\" station_name=\"\" t.c.=\"\" temperature=\"\" the=\"\" v2.prcp=\"\" vose=\"\" wmo=\"\"></gujarat></p> 20000901\n",
            "RAJPIPLANANDOD<gujarat ::=\"\" american=\"\" an=\"\" and=\"\" cest=\"\" climatology=\"\" climexp_url=\"\" code:=\"\" contact_email=\"\" coordinates:=\"\" database.bulletin=\"\" degrees_east=\"\" degrees_north=\"\" elevation=\"\" fri=\"\" from=\"\" global=\"\" historical=\"\" http:=\"\" https:=\"\" india=\"\" institution=\"\" jul=\"\" latitude=\"\" longitude=\"\" m=\"\" meteorological=\"\" ncdc.ghcnm=\"\" near=\"\" network=\"\" noaa=\"\" of=\"\" overview=\"\" peterson=\"\" prcp=\"\" r.s.=\"\" rajpipla=\"\" references=\"\" retrieved=\"\" scripturl01=\"\" society=\"\" source_url=\"\" station=\"\" station_code=\"\" station_country=\"\" station_name=\"\" t.c.=\"\" temperature=\"\" the=\"\" v2.prcp=\"\" vose=\"\" wmo=\"\"></gujarat></p> 20001001\n",
            "RAJPIPLANANDOD<gujarat ::=\"\" american=\"\" an=\"\" and=\"\" cest=\"\" climatology=\"\" climexp_url=\"\" code:=\"\" contact_email=\"\" coordinates:=\"\" database.bulletin=\"\" degrees_east=\"\" degrees_north=\"\" elevation=\"\" fri=\"\" from=\"\" global=\"\" historical=\"\" http:=\"\" https:=\"\" india=\"\" institution=\"\" jul=\"\" latitude=\"\" longitude=\"\" m=\"\" meteorological=\"\" ncdc.ghcnm=\"\" near=\"\" network=\"\" noaa=\"\" of=\"\" overview=\"\" peterson=\"\" prcp=\"\" r.s.=\"\" rajpipla=\"\" references=\"\" retrieved=\"\" scripturl01=\"\" society=\"\" source_url=\"\" station=\"\" station_code=\"\" station_country=\"\" station_name=\"\" t.c.=\"\" temperature=\"\" the=\"\" v2.prcp=\"\" vose=\"\" wmo=\"\"></gujarat></p> 20001101\n",
            "RAJPIPLANANDOD<gujarat ::=\"\" american=\"\" an=\"\" and=\"\" cest=\"\" climatology=\"\" climexp_url=\"\" code:=\"\" contact_email=\"\" coordinates:=\"\" database.bulletin=\"\" degrees_east=\"\" degrees_north=\"\" elevation=\"\" fri=\"\" from=\"\" global=\"\" historical=\"\" http:=\"\" https:=\"\" india=\"\" institution=\"\" jul=\"\" latitude=\"\" longitude=\"\" m=\"\" meteorological=\"\" ncdc.ghcnm=\"\" near=\"\" network=\"\" noaa=\"\" of=\"\" overview=\"\" peterson=\"\" prcp=\"\" r.s.=\"\" rajpipla=\"\" references=\"\" retrieved=\"\" scripturl01=\"\" society=\"\" source_url=\"\" station=\"\" station_code=\"\" station_country=\"\" station_name=\"\" t.c.=\"\" temperature=\"\" the=\"\" v2.prcp=\"\" vose=\"\" wmo=\"\"></gujarat></p> 20001201\n",
            "CORINGACORINZA<andhra ::=\"\" american=\"\" an=\"\" and=\"\" cest=\"\" climatology=\"\" climexp_url=\"\" code:=\"\" contact_email=\"\" coordinates:=\"\" coringa=\"\" database.bulletin=\"\" degrees_east=\"\" degrees_north=\"\" elevation=\"\" fri=\"\" from=\"\" global=\"\" historical=\"\" http:=\"\" https:=\"\" india=\"\" institution=\"\" jul=\"\" latitude=\"\" longitude=\"\" m=\"\" meteorological=\"\" ncdc.ghcnm=\"\" near=\"\" network=\"\" noaa=\"\" of=\"\" overview=\"\" peterson=\"\" prcp=\"\" r.s.=\"\" references=\"\" retrieved=\"\" scripturl01=\"\" society=\"\" source_url=\"\" station=\"\" station_code=\"\" station_country=\"\" station_name=\"\" t.c.=\"\" temperature=\"\" the=\"\" v2.prcp=\"\" vose=\"\" wmo=\"\"></andhra></p> 20000101\n",
            "CORINGACORINZA<andhra ::=\"\" american=\"\" an=\"\" and=\"\" cest=\"\" climatology=\"\" climexp_url=\"\" code:=\"\" contact_email=\"\" coordinates:=\"\" coringa=\"\" database.bulletin=\"\" degrees_east=\"\" degrees_north=\"\" elevation=\"\" fri=\"\" from=\"\" global=\"\" historical=\"\" http:=\"\" https:=\"\" india=\"\" institution=\"\" jul=\"\" latitude=\"\" longitude=\"\" m=\"\" meteorological=\"\" ncdc.ghcnm=\"\" near=\"\" network=\"\" noaa=\"\" of=\"\" overview=\"\" peterson=\"\" prcp=\"\" r.s.=\"\" references=\"\" retrieved=\"\" scripturl01=\"\" society=\"\" source_url=\"\" station=\"\" station_code=\"\" station_country=\"\" station_name=\"\" t.c.=\"\" temperature=\"\" the=\"\" v2.prcp=\"\" vose=\"\" wmo=\"\"></andhra></p> 20000201\n",
            "CORINGACORINZA<andhra ::=\"\" american=\"\" an=\"\" and=\"\" cest=\"\" climatology=\"\" climexp_url=\"\" code:=\"\" contact_email=\"\" coordinates:=\"\" coringa=\"\" database.bulletin=\"\" degrees_east=\"\" degrees_north=\"\" elevation=\"\" fri=\"\" from=\"\" global=\"\" historical=\"\" http:=\"\" https:=\"\" india=\"\" institution=\"\" jul=\"\" latitude=\"\" longitude=\"\" m=\"\" meteorological=\"\" ncdc.ghcnm=\"\" near=\"\" network=\"\" noaa=\"\" of=\"\" overview=\"\" peterson=\"\" prcp=\"\" r.s.=\"\" references=\"\" retrieved=\"\" scripturl01=\"\" society=\"\" source_url=\"\" station=\"\" station_code=\"\" station_country=\"\" station_name=\"\" t.c.=\"\" temperature=\"\" the=\"\" v2.prcp=\"\" vose=\"\" wmo=\"\"></andhra></p> 20000301\n",
            "CORINGACORINZA<andhra ::=\"\" american=\"\" an=\"\" and=\"\" cest=\"\" climatology=\"\" climexp_url=\"\" code:=\"\" contact_email=\"\" coordinates:=\"\" coringa=\"\" database.bulletin=\"\" degrees_east=\"\" degrees_north=\"\" elevation=\"\" fri=\"\" from=\"\" global=\"\" historical=\"\" http:=\"\" https:=\"\" india=\"\" institution=\"\" jul=\"\" latitude=\"\" longitude=\"\" m=\"\" meteorological=\"\" ncdc.ghcnm=\"\" near=\"\" network=\"\" noaa=\"\" of=\"\" overview=\"\" peterson=\"\" prcp=\"\" r.s.=\"\" references=\"\" retrieved=\"\" scripturl01=\"\" society=\"\" source_url=\"\" station=\"\" station_code=\"\" station_country=\"\" station_name=\"\" t.c.=\"\" temperature=\"\" the=\"\" v2.prcp=\"\" vose=\"\" wmo=\"\"></andhra></p> 20000401\n",
            "CORINGACORINZA<andhra ::=\"\" american=\"\" an=\"\" and=\"\" cest=\"\" climatology=\"\" climexp_url=\"\" code:=\"\" contact_email=\"\" coordinates:=\"\" coringa=\"\" database.bulletin=\"\" degrees_east=\"\" degrees_north=\"\" elevation=\"\" fri=\"\" from=\"\" global=\"\" historical=\"\" http:=\"\" https:=\"\" india=\"\" institution=\"\" jul=\"\" latitude=\"\" longitude=\"\" m=\"\" meteorological=\"\" ncdc.ghcnm=\"\" near=\"\" network=\"\" noaa=\"\" of=\"\" overview=\"\" peterson=\"\" prcp=\"\" r.s.=\"\" references=\"\" retrieved=\"\" scripturl01=\"\" society=\"\" source_url=\"\" station=\"\" station_code=\"\" station_country=\"\" station_name=\"\" t.c.=\"\" temperature=\"\" the=\"\" v2.prcp=\"\" vose=\"\" wmo=\"\"></andhra></p> 20000501\n",
            "CORINGACORINZA<andhra ::=\"\" american=\"\" an=\"\" and=\"\" cest=\"\" climatology=\"\" climexp_url=\"\" code:=\"\" contact_email=\"\" coordinates:=\"\" coringa=\"\" database.bulletin=\"\" degrees_east=\"\" degrees_north=\"\" elevation=\"\" fri=\"\" from=\"\" global=\"\" historical=\"\" http:=\"\" https:=\"\" india=\"\" institution=\"\" jul=\"\" latitude=\"\" longitude=\"\" m=\"\" meteorological=\"\" ncdc.ghcnm=\"\" near=\"\" network=\"\" noaa=\"\" of=\"\" overview=\"\" peterson=\"\" prcp=\"\" r.s.=\"\" references=\"\" retrieved=\"\" scripturl01=\"\" society=\"\" source_url=\"\" station=\"\" station_code=\"\" station_country=\"\" station_name=\"\" t.c.=\"\" temperature=\"\" the=\"\" v2.prcp=\"\" vose=\"\" wmo=\"\"></andhra></p> 20000601\n",
            "CORINGACORINZA<andhra ::=\"\" american=\"\" an=\"\" and=\"\" cest=\"\" climatology=\"\" climexp_url=\"\" code:=\"\" contact_email=\"\" coordinates:=\"\" coringa=\"\" database.bulletin=\"\" degrees_east=\"\" degrees_north=\"\" elevation=\"\" fri=\"\" from=\"\" global=\"\" historical=\"\" http:=\"\" https:=\"\" india=\"\" institution=\"\" jul=\"\" latitude=\"\" longitude=\"\" m=\"\" meteorological=\"\" ncdc.ghcnm=\"\" near=\"\" network=\"\" noaa=\"\" of=\"\" overview=\"\" peterson=\"\" prcp=\"\" r.s.=\"\" references=\"\" retrieved=\"\" scripturl01=\"\" society=\"\" source_url=\"\" station=\"\" station_code=\"\" station_country=\"\" station_name=\"\" t.c.=\"\" temperature=\"\" the=\"\" v2.prcp=\"\" vose=\"\" wmo=\"\"></andhra></p> 20000701\n",
            "CORINGACORINZA<andhra ::=\"\" american=\"\" an=\"\" and=\"\" cest=\"\" climatology=\"\" climexp_url=\"\" code:=\"\" contact_email=\"\" coordinates:=\"\" coringa=\"\" database.bulletin=\"\" degrees_east=\"\" degrees_north=\"\" elevation=\"\" fri=\"\" from=\"\" global=\"\" historical=\"\" http:=\"\" https:=\"\" india=\"\" institution=\"\" jul=\"\" latitude=\"\" longitude=\"\" m=\"\" meteorological=\"\" ncdc.ghcnm=\"\" near=\"\" network=\"\" noaa=\"\" of=\"\" overview=\"\" peterson=\"\" prcp=\"\" r.s.=\"\" references=\"\" retrieved=\"\" scripturl01=\"\" society=\"\" source_url=\"\" station=\"\" station_code=\"\" station_country=\"\" station_name=\"\" t.c.=\"\" temperature=\"\" the=\"\" v2.prcp=\"\" vose=\"\" wmo=\"\"></andhra></p> 20000801\n",
            "CORINGACORINZA<andhra ::=\"\" american=\"\" an=\"\" and=\"\" cest=\"\" climatology=\"\" climexp_url=\"\" code:=\"\" contact_email=\"\" coordinates:=\"\" coringa=\"\" database.bulletin=\"\" degrees_east=\"\" degrees_north=\"\" elevation=\"\" fri=\"\" from=\"\" global=\"\" historical=\"\" http:=\"\" https:=\"\" india=\"\" institution=\"\" jul=\"\" latitude=\"\" longitude=\"\" m=\"\" meteorological=\"\" ncdc.ghcnm=\"\" near=\"\" network=\"\" noaa=\"\" of=\"\" overview=\"\" peterson=\"\" prcp=\"\" r.s.=\"\" references=\"\" retrieved=\"\" scripturl01=\"\" society=\"\" source_url=\"\" station=\"\" station_code=\"\" station_country=\"\" station_name=\"\" t.c.=\"\" temperature=\"\" the=\"\" v2.prcp=\"\" vose=\"\" wmo=\"\"></andhra></p> 20000901\n",
            "CORINGACORINZA<andhra ::=\"\" american=\"\" an=\"\" and=\"\" cest=\"\" climatology=\"\" climexp_url=\"\" code:=\"\" contact_email=\"\" coordinates:=\"\" coringa=\"\" database.bulletin=\"\" degrees_east=\"\" degrees_north=\"\" elevation=\"\" fri=\"\" from=\"\" global=\"\" historical=\"\" http:=\"\" https:=\"\" india=\"\" institution=\"\" jul=\"\" latitude=\"\" longitude=\"\" m=\"\" meteorological=\"\" ncdc.ghcnm=\"\" near=\"\" network=\"\" noaa=\"\" of=\"\" overview=\"\" peterson=\"\" prcp=\"\" r.s.=\"\" references=\"\" retrieved=\"\" scripturl01=\"\" society=\"\" source_url=\"\" station=\"\" station_code=\"\" station_country=\"\" station_name=\"\" t.c.=\"\" temperature=\"\" the=\"\" v2.prcp=\"\" vose=\"\" wmo=\"\"></andhra></p> 20001001\n",
            "CORINGACORINZA<andhra ::=\"\" american=\"\" an=\"\" and=\"\" cest=\"\" climatology=\"\" climexp_url=\"\" code:=\"\" contact_email=\"\" coordinates:=\"\" coringa=\"\" database.bulletin=\"\" degrees_east=\"\" degrees_north=\"\" elevation=\"\" fri=\"\" from=\"\" global=\"\" historical=\"\" http:=\"\" https:=\"\" india=\"\" institution=\"\" jul=\"\" latitude=\"\" longitude=\"\" m=\"\" meteorological=\"\" ncdc.ghcnm=\"\" near=\"\" network=\"\" noaa=\"\" of=\"\" overview=\"\" peterson=\"\" prcp=\"\" r.s.=\"\" references=\"\" retrieved=\"\" scripturl01=\"\" society=\"\" source_url=\"\" station=\"\" station_code=\"\" station_country=\"\" station_name=\"\" t.c.=\"\" temperature=\"\" the=\"\" v2.prcp=\"\" vose=\"\" wmo=\"\"></andhra></p> 20001101\n",
            "CORINGACORINZA<andhra ::=\"\" american=\"\" an=\"\" and=\"\" cest=\"\" climatology=\"\" climexp_url=\"\" code:=\"\" contact_email=\"\" coordinates:=\"\" coringa=\"\" database.bulletin=\"\" degrees_east=\"\" degrees_north=\"\" elevation=\"\" fri=\"\" from=\"\" global=\"\" historical=\"\" http:=\"\" https:=\"\" india=\"\" institution=\"\" jul=\"\" latitude=\"\" longitude=\"\" m=\"\" meteorological=\"\" ncdc.ghcnm=\"\" near=\"\" network=\"\" noaa=\"\" of=\"\" overview=\"\" peterson=\"\" prcp=\"\" r.s.=\"\" references=\"\" retrieved=\"\" scripturl01=\"\" society=\"\" source_url=\"\" station=\"\" station_code=\"\" station_country=\"\" station_name=\"\" t.c.=\"\" temperature=\"\" the=\"\" v2.prcp=\"\" vose=\"\" wmo=\"\"></andhra></p> 20001201\n"
          ]
        }
      ]
    },
    {
      "cell_type": "code",
      "source": [
        "num_of_files = 0\n",
        "for dirpath, _, filenames in os.walk(\"/content/individual_station_data\"):\n",
        "    for filename in filenames:\n",
        "        num_of_files += 1\n",
        "print(\"Number of stations: \", num_of_files)"
      ],
      "metadata": {
        "colab": {
          "base_uri": "https://localhost:8080/"
        },
        "id": "MuGeNGeyEPz8",
        "outputId": "bf5fe5c2-fb4f-400a-d80c-41ed97482eaa"
      },
      "execution_count": null,
      "outputs": [
        {
          "output_type": "stream",
          "name": "stdout",
          "text": [
            "Number of stations:  4754\n"
          ]
        }
      ]
    },
    {
      "cell_type": "code",
      "source": [
        "all_data_file.close()"
      ],
      "metadata": {
        "id": "OBOR062T_24O"
      },
      "execution_count": null,
      "outputs": []
    }
  ],
  "metadata": {
    "colab": {
      "provenance": [],
      "toc_visible": true
    },
    "kernelspec": {
      "display_name": "Python 3",
      "name": "python3"
    },
    "language_info": {
      "name": "python"
    }
  },
  "nbformat": 4,
  "nbformat_minor": 0
}